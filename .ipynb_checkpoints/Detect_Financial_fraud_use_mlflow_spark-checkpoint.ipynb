{
 "cells": [
  {
   "cell_type": "markdown",
   "id": "91d261b9",
   "metadata": {},
   "source": [
    "#### - Intructions on this Repo\n",
    "\n",
    "1. Heap size error\n",
    "run this command line before run jupyter notebook on command line\n",
    "\n",
    "export PYSPARK_SUBMIT_ARGS=' --conf spark.sql.shuffle.partitions=700 --conf spark.default.parallelism=700 --driver-memory 30g --driver-cores 6 --executor-memory 30g --executor-cores 6 pyspark-shell'\n",
    "\n",
    "\n",
    "2. ERROR PythonRunner: Python worker exited unexpectedly (crashed) java.net.SocketException: Connection reset\n",
    "\n",
    "Try to run several times"
   ]
  },
  {
   "cell_type": "code",
   "execution_count": 1,
   "id": "c4f7bae8",
   "metadata": {},
   "outputs": [
    {
     "name": "stdout",
     "output_type": "stream",
     "text": [
      "MLflow Version: 2.1.1\n"
     ]
    }
   ],
   "source": [
    "# Including MLflow\n",
    "import mlflow\n",
    "import mlflow.spark\n",
    "import os\n",
    "print(\"MLflow Version: %s\" % mlflow.__version__)\n",
    "\n",
    "# Configure MLflow Experiment\n",
    "experiment_id = mlflow.set_experiment(experiment_name=\"./mlruns/\")\n",
    "experiment_id = list(experiment_id)[2][1]"
   ]
  },
  {
   "cell_type": "code",
   "execution_count": 2,
   "id": "f22ede4f",
   "metadata": {},
   "outputs": [
    {
     "data": {
      "text/plain": [
       "'283688411890684899'"
      ]
     },
     "execution_count": 2,
     "metadata": {},
     "output_type": "execute_result"
    }
   ],
   "source": [
    "experiment_id"
   ]
  },
  {
   "cell_type": "code",
   "execution_count": 3,
   "id": "6a2a0c72",
   "metadata": {},
   "outputs": [],
   "source": [
    "import pandas as pd\n",
    "import numpy as np"
   ]
  },
  {
   "cell_type": "markdown",
   "id": "15c065cb",
   "metadata": {},
   "source": [
    "### Source Data"
   ]
  },
  {
   "cell_type": "code",
   "execution_count": 4,
   "id": "53004d59",
   "metadata": {},
   "outputs": [],
   "source": [
    "#Data set is synthetic dataset is scaled down 1/4 of the original dataset and it is created just for Kaggle\n",
    "data_urls = \"https://media.githubusercontent.com/media/FelixQLe/Detect_Financial_Fraud_at_Scale_with_decision_Trees/main/Synthetic_Financial_datasets_log.csv\""
   ]
  },
  {
   "cell_type": "code",
   "execution_count": 5,
   "id": "6160af0c",
   "metadata": {},
   "outputs": [],
   "source": [
    "fin_fraud_dataset = pd.read_csv(data_urls, delimiter=',', header = 0)"
   ]
  },
  {
   "cell_type": "code",
   "execution_count": 6,
   "id": "eeeb9052",
   "metadata": {},
   "outputs": [],
   "source": [
    "#large dataset takes longer to load, so i make a copy to reuse in case\n",
    "fin_fraud_copy = fin_fraud_dataset.copy()"
   ]
  },
  {
   "cell_type": "code",
   "execution_count": 7,
   "id": "37ecd5f1",
   "metadata": {},
   "outputs": [
    {
     "data": {
      "text/plain": [
       "(6362620, 11)"
      ]
     },
     "execution_count": 7,
     "metadata": {},
     "output_type": "execute_result"
    }
   ],
   "source": [
    "fin_fraud_copy.shape"
   ]
  },
  {
   "cell_type": "markdown",
   "id": "25e50157",
   "metadata": {},
   "source": [
    "### Create SQL database using PySpark"
   ]
  },
  {
   "cell_type": "code",
   "execution_count": 8,
   "id": "cb3b5756",
   "metadata": {},
   "outputs": [
    {
     "name": "stdout",
     "output_type": "stream",
     "text": [
      "PySpark Version : 3.3.0\n"
     ]
    }
   ],
   "source": [
    "#import pyspark\n",
    "import pyspark\n",
    "from pyspark import SparkContext, SparkConf\n",
    "from pyspark.sql import SparkSession, SQLContext\n",
    "print(f\"PySpark Version : {pyspark.__version__}\")"
   ]
  },
  {
   "cell_type": "code",
   "execution_count": 9,
   "id": "a6872f38",
   "metadata": {},
   "outputs": [
    {
     "name": "stderr",
     "output_type": "stream",
     "text": [
      "Setting default log level to \"WARN\".\n",
      "To adjust logging level use sc.setLogLevel(newLevel). For SparkR, use setLogLevel(newLevel).\n"
     ]
    },
    {
     "name": "stdout",
     "output_type": "stream",
     "text": [
      "23/02/11 23:24:23 WARN NativeCodeLoader: Unable to load native-hadoop library for your platform... using builtin-java classes where applicable\n"
     ]
    }
   ],
   "source": [
    "#Create a spark Context class\n",
    "sc = SparkContext()"
   ]
  },
  {
   "cell_type": "code",
   "execution_count": 10,
   "id": "9e93c49c",
   "metadata": {},
   "outputs": [],
   "source": [
    "## Create spark session\n",
    "spark = SparkSession.builder.master('local[*]').\\\n",
    "                config('spark.sql.debug.maxToStringFields', '100').\\\n",
    "                appName(\"Python Spark Dataframes Financial Fruad\").getOrCreate()"
   ]
  },
  {
   "cell_type": "code",
   "execution_count": 11,
   "id": "35142082",
   "metadata": {},
   "outputs": [
    {
     "data": {
      "text/html": [
       "<div>\n",
       "<style scoped>\n",
       "    .dataframe tbody tr th:only-of-type {\n",
       "        vertical-align: middle;\n",
       "    }\n",
       "\n",
       "    .dataframe tbody tr th {\n",
       "        vertical-align: top;\n",
       "    }\n",
       "\n",
       "    .dataframe thead th {\n",
       "        text-align: right;\n",
       "    }\n",
       "</style>\n",
       "<table border=\"1\" class=\"dataframe\">\n",
       "  <thead>\n",
       "    <tr style=\"text-align: right;\">\n",
       "      <th></th>\n",
       "      <th>step</th>\n",
       "      <th>type</th>\n",
       "      <th>amount</th>\n",
       "      <th>nameOrig</th>\n",
       "      <th>oldbalanceOrg</th>\n",
       "      <th>newbalanceOrig</th>\n",
       "      <th>nameDest</th>\n",
       "      <th>oldbalanceDest</th>\n",
       "      <th>newbalanceDest</th>\n",
       "      <th>isFraud</th>\n",
       "      <th>isFlaggedFraud</th>\n",
       "    </tr>\n",
       "  </thead>\n",
       "  <tbody>\n",
       "    <tr>\n",
       "      <th>0</th>\n",
       "      <td>1</td>\n",
       "      <td>PAYMENT</td>\n",
       "      <td>9839.64</td>\n",
       "      <td>C1231006815</td>\n",
       "      <td>170136.0</td>\n",
       "      <td>160296.36</td>\n",
       "      <td>M1979787155</td>\n",
       "      <td>0.0</td>\n",
       "      <td>0.0</td>\n",
       "      <td>0</td>\n",
       "      <td>0</td>\n",
       "    </tr>\n",
       "    <tr>\n",
       "      <th>1</th>\n",
       "      <td>1</td>\n",
       "      <td>PAYMENT</td>\n",
       "      <td>1864.28</td>\n",
       "      <td>C1666544295</td>\n",
       "      <td>21249.0</td>\n",
       "      <td>19384.72</td>\n",
       "      <td>M2044282225</td>\n",
       "      <td>0.0</td>\n",
       "      <td>0.0</td>\n",
       "      <td>0</td>\n",
       "      <td>0</td>\n",
       "    </tr>\n",
       "    <tr>\n",
       "      <th>2</th>\n",
       "      <td>1</td>\n",
       "      <td>TRANSFER</td>\n",
       "      <td>181.00</td>\n",
       "      <td>C1305486145</td>\n",
       "      <td>181.0</td>\n",
       "      <td>0.00</td>\n",
       "      <td>C553264065</td>\n",
       "      <td>0.0</td>\n",
       "      <td>0.0</td>\n",
       "      <td>1</td>\n",
       "      <td>0</td>\n",
       "    </tr>\n",
       "    <tr>\n",
       "      <th>3</th>\n",
       "      <td>1</td>\n",
       "      <td>CASH_OUT</td>\n",
       "      <td>181.00</td>\n",
       "      <td>C840083671</td>\n",
       "      <td>181.0</td>\n",
       "      <td>0.00</td>\n",
       "      <td>C38997010</td>\n",
       "      <td>21182.0</td>\n",
       "      <td>0.0</td>\n",
       "      <td>1</td>\n",
       "      <td>0</td>\n",
       "    </tr>\n",
       "    <tr>\n",
       "      <th>4</th>\n",
       "      <td>1</td>\n",
       "      <td>PAYMENT</td>\n",
       "      <td>11668.14</td>\n",
       "      <td>C2048537720</td>\n",
       "      <td>41554.0</td>\n",
       "      <td>29885.86</td>\n",
       "      <td>M1230701703</td>\n",
       "      <td>0.0</td>\n",
       "      <td>0.0</td>\n",
       "      <td>0</td>\n",
       "      <td>0</td>\n",
       "    </tr>\n",
       "  </tbody>\n",
       "</table>\n",
       "</div>"
      ],
      "text/plain": [
       "   step      type    amount     nameOrig  oldbalanceOrg  newbalanceOrig  \\\n",
       "0     1   PAYMENT   9839.64  C1231006815       170136.0       160296.36   \n",
       "1     1   PAYMENT   1864.28  C1666544295        21249.0        19384.72   \n",
       "2     1  TRANSFER    181.00  C1305486145          181.0            0.00   \n",
       "3     1  CASH_OUT    181.00   C840083671          181.0            0.00   \n",
       "4     1   PAYMENT  11668.14  C2048537720        41554.0        29885.86   \n",
       "\n",
       "      nameDest  oldbalanceDest  newbalanceDest  isFraud  isFlaggedFraud  \n",
       "0  M1979787155             0.0             0.0        0               0  \n",
       "1  M2044282225             0.0             0.0        0               0  \n",
       "2   C553264065             0.0             0.0        1               0  \n",
       "3    C38997010         21182.0             0.0        1               0  \n",
       "4  M1230701703             0.0             0.0        0               0  "
      ]
     },
     "execution_count": 11,
     "metadata": {},
     "output_type": "execute_result"
    }
   ],
   "source": [
    "fin_fraud_copy.head(5)"
   ]
  },
  {
   "cell_type": "code",
   "execution_count": 12,
   "id": "25da981b",
   "metadata": {},
   "outputs": [],
   "source": [
    "#Loading data into Spark, take long\n",
    "spark_df = spark.createDataFrame(fin_fraud_copy)"
   ]
  },
  {
   "cell_type": "code",
   "execution_count": 13,
   "id": "01890611",
   "metadata": {},
   "outputs": [
    {
     "name": "stdout",
     "output_type": "stream",
     "text": [
      "root\n",
      " |-- step: long (nullable = true)\n",
      " |-- type: string (nullable = true)\n",
      " |-- amount: double (nullable = true)\n",
      " |-- nameOrig: string (nullable = true)\n",
      " |-- oldbalanceOrg: double (nullable = true)\n",
      " |-- newbalanceOrig: double (nullable = true)\n",
      " |-- nameDest: string (nullable = true)\n",
      " |-- oldbalanceDest: double (nullable = true)\n",
      " |-- newbalanceDest: double (nullable = true)\n",
      " |-- isFraud: long (nullable = true)\n",
      " |-- isFlaggedFraud: long (nullable = true)\n",
      "\n"
     ]
    }
   ],
   "source": [
    "spark_df.printSchema()"
   ]
  },
  {
   "cell_type": "code",
   "execution_count": 14,
   "id": "33f65ea3",
   "metadata": {},
   "outputs": [
    {
     "name": "stderr",
     "output_type": "stream",
     "text": [
      "[Stage 0:>                                                          (0 + 1) / 1]\r"
     ]
    },
    {
     "name": "stdout",
     "output_type": "stream",
     "text": [
      "+----+--------+---------+-----------+-------------+--------------+-----------+--------------+--------------+-------+--------------+\n",
      "|step|    type|   amount|   nameOrig|oldbalanceOrg|newbalanceOrig|   nameDest|oldbalanceDest|newbalanceDest|isFraud|isFlaggedFraud|\n",
      "+----+--------+---------+-----------+-------------+--------------+-----------+--------------+--------------+-------+--------------+\n",
      "|   1| PAYMENT|  9839.64|C1231006815|     170136.0|     160296.36|M1979787155|           0.0|           0.0|      0|             0|\n",
      "|   1| PAYMENT|  1864.28|C1666544295|      21249.0|      19384.72|M2044282225|           0.0|           0.0|      0|             0|\n",
      "|   1|TRANSFER|    181.0|C1305486145|        181.0|           0.0| C553264065|           0.0|           0.0|      1|             0|\n",
      "|   1|CASH_OUT|    181.0| C840083671|        181.0|           0.0|  C38997010|       21182.0|           0.0|      1|             0|\n",
      "|   1| PAYMENT| 11668.14|C2048537720|      41554.0|      29885.86|M1230701703|           0.0|           0.0|      0|             0|\n",
      "|   1| PAYMENT|  7817.71|  C90045638|      53860.0|      46042.29| M573487274|           0.0|           0.0|      0|             0|\n",
      "|   1| PAYMENT|  7107.77| C154988899|     183195.0|     176087.23| M408069119|           0.0|           0.0|      0|             0|\n",
      "|   1| PAYMENT|  7861.64|C1912850431|    176087.23|     168225.59| M633326333|           0.0|           0.0|      0|             0|\n",
      "|   1| PAYMENT|  4024.36|C1265012928|       2671.0|           0.0|M1176932104|           0.0|           0.0|      0|             0|\n",
      "|   1|   DEBIT|  5337.77| C712410124|      41720.0|      36382.23| C195600860|       41898.0|      40348.79|      0|             0|\n",
      "|   1|   DEBIT|  9644.94|C1900366749|       4465.0|           0.0| C997608398|       10845.0|     157982.12|      0|             0|\n",
      "|   1| PAYMENT|  3099.97| C249177573|      20771.0|      17671.03|M2096539129|           0.0|           0.0|      0|             0|\n",
      "|   1| PAYMENT|  2560.74|C1648232591|       5070.0|       2509.26| M972865270|           0.0|           0.0|      0|             0|\n",
      "|   1| PAYMENT| 11633.76|C1716932897|      10127.0|           0.0| M801569151|           0.0|           0.0|      0|             0|\n",
      "|   1| PAYMENT|  4098.78|C1026483832|     503264.0|     499165.22|M1635378213|           0.0|           0.0|      0|             0|\n",
      "|   1|CASH_OUT|229133.94| C905080434|      15325.0|           0.0| C476402209|        5083.0|      51513.44|      0|             0|\n",
      "|   1| PAYMENT|  1563.82| C761750706|        450.0|           0.0|M1731217984|           0.0|           0.0|      0|             0|\n",
      "|   1| PAYMENT|  1157.86|C1237762639|      21156.0|      19998.14|M1877062907|           0.0|           0.0|      0|             0|\n",
      "|   1| PAYMENT|   671.64|C2033524545|      15123.0|      14451.36| M473053293|           0.0|           0.0|      0|             0|\n",
      "|   1|TRANSFER| 215310.3|C1670993182|        705.0|           0.0|C1100439041|       22425.0|           0.0|      0|             0|\n",
      "+----+--------+---------+-----------+-------------+--------------+-----------+--------------+--------------+-------+--------------+\n",
      "only showing top 20 rows\n",
      "\n"
     ]
    },
    {
     "name": "stderr",
     "output_type": "stream",
     "text": [
      "\r",
      "                                                                                \r"
     ]
    }
   ],
   "source": [
    "spark_df.show()"
   ]
  },
  {
   "cell_type": "code",
   "execution_count": 15,
   "id": "cd6e62a8",
   "metadata": {},
   "outputs": [],
   "source": [
    "#create table view fin_fraud_table, we can treat it as sql table\n",
    "spark_df.createTempView(\"fin_fraud_table\")"
   ]
  },
  {
   "cell_type": "code",
   "execution_count": 16,
   "id": "18a49389",
   "metadata": {},
   "outputs": [],
   "source": [
    "# Create df DataFrame which contains our simulated financial fraud detection dataset\n",
    "original_fin_fraud_df = spark.sql(\"select step, type, amount, nameOrig, oldbalanceOrg, newbalanceOrig, nameDest, oldbalanceDest, newbalanceDest, isFraud from fin_fraud_table\")"
   ]
  },
  {
   "cell_type": "code",
   "execution_count": 17,
   "id": "05b0d0df",
   "metadata": {},
   "outputs": [
    {
     "name": "stdout",
     "output_type": "stream",
     "text": [
      "root\n",
      " |-- step: long (nullable = true)\n",
      " |-- type: string (nullable = true)\n",
      " |-- amount: double (nullable = true)\n",
      " |-- nameOrig: string (nullable = true)\n",
      " |-- oldbalanceOrg: double (nullable = true)\n",
      " |-- newbalanceOrig: double (nullable = true)\n",
      " |-- nameDest: string (nullable = true)\n",
      " |-- oldbalanceDest: double (nullable = true)\n",
      " |-- newbalanceDest: double (nullable = true)\n",
      " |-- isFraud: long (nullable = true)\n",
      "\n"
     ]
    }
   ],
   "source": [
    "original_fin_fraud_df.printSchema()"
   ]
  },
  {
   "cell_type": "code",
   "execution_count": 18,
   "id": "ad980613",
   "metadata": {},
   "outputs": [
    {
     "name": "stdout",
     "output_type": "stream",
     "text": [
      "+----+--------+---------+-----------+-------------+--------------+-----------+--------------+--------------+-------+\n",
      "|step|    type|   amount|   nameOrig|oldbalanceOrg|newbalanceOrig|   nameDest|oldbalanceDest|newbalanceDest|isFraud|\n",
      "+----+--------+---------+-----------+-------------+--------------+-----------+--------------+--------------+-------+\n",
      "|   1| PAYMENT|  9839.64|C1231006815|     170136.0|     160296.36|M1979787155|           0.0|           0.0|      0|\n",
      "|   1| PAYMENT|  1864.28|C1666544295|      21249.0|      19384.72|M2044282225|           0.0|           0.0|      0|\n",
      "|   1|TRANSFER|    181.0|C1305486145|        181.0|           0.0| C553264065|           0.0|           0.0|      1|\n",
      "|   1|CASH_OUT|    181.0| C840083671|        181.0|           0.0|  C38997010|       21182.0|           0.0|      1|\n",
      "|   1| PAYMENT| 11668.14|C2048537720|      41554.0|      29885.86|M1230701703|           0.0|           0.0|      0|\n",
      "|   1| PAYMENT|  7817.71|  C90045638|      53860.0|      46042.29| M573487274|           0.0|           0.0|      0|\n",
      "|   1| PAYMENT|  7107.77| C154988899|     183195.0|     176087.23| M408069119|           0.0|           0.0|      0|\n",
      "|   1| PAYMENT|  7861.64|C1912850431|    176087.23|     168225.59| M633326333|           0.0|           0.0|      0|\n",
      "|   1| PAYMENT|  4024.36|C1265012928|       2671.0|           0.0|M1176932104|           0.0|           0.0|      0|\n",
      "|   1|   DEBIT|  5337.77| C712410124|      41720.0|      36382.23| C195600860|       41898.0|      40348.79|      0|\n",
      "|   1|   DEBIT|  9644.94|C1900366749|       4465.0|           0.0| C997608398|       10845.0|     157982.12|      0|\n",
      "|   1| PAYMENT|  3099.97| C249177573|      20771.0|      17671.03|M2096539129|           0.0|           0.0|      0|\n",
      "|   1| PAYMENT|  2560.74|C1648232591|       5070.0|       2509.26| M972865270|           0.0|           0.0|      0|\n",
      "|   1| PAYMENT| 11633.76|C1716932897|      10127.0|           0.0| M801569151|           0.0|           0.0|      0|\n",
      "|   1| PAYMENT|  4098.78|C1026483832|     503264.0|     499165.22|M1635378213|           0.0|           0.0|      0|\n",
      "|   1|CASH_OUT|229133.94| C905080434|      15325.0|           0.0| C476402209|        5083.0|      51513.44|      0|\n",
      "|   1| PAYMENT|  1563.82| C761750706|        450.0|           0.0|M1731217984|           0.0|           0.0|      0|\n",
      "|   1| PAYMENT|  1157.86|C1237762639|      21156.0|      19998.14|M1877062907|           0.0|           0.0|      0|\n",
      "|   1| PAYMENT|   671.64|C2033524545|      15123.0|      14451.36| M473053293|           0.0|           0.0|      0|\n",
      "|   1|TRANSFER| 215310.3|C1670993182|        705.0|           0.0|C1100439041|       22425.0|           0.0|      0|\n",
      "+----+--------+---------+-----------+-------------+--------------+-----------+--------------+--------------+-------+\n",
      "only showing top 20 rows\n",
      "\n"
     ]
    }
   ],
   "source": [
    "# Review the schema of your data \n",
    "original_fin_fraud_df.show()"
   ]
  },
  {
   "cell_type": "code",
   "execution_count": 19,
   "id": "5939f7db",
   "metadata": {},
   "outputs": [],
   "source": [
    "#add column orgDiff and destDiff based on the difference between Originating and Destination\n",
    "original_fin_fraud_df = original_fin_fraud_df.withColumn(\"orgDiff\",\n",
    "                            original_fin_fraud_df.newbalanceOrig - \n",
    "                                       original_fin_fraud_df.oldbalanceOrg).withColumn(\"destDiff\",\n",
    "                            original_fin_fraud_df.newbalanceDest - original_fin_fraud_df.oldbalanceDest)\n",
    "    \n",
    "#create temporary view\n",
    "original_fin_fraud_df.createOrReplaceTempView(\"financials\")"
   ]
  },
  {
   "cell_type": "code",
   "execution_count": 20,
   "id": "55a7d3b0",
   "metadata": {},
   "outputs": [
    {
     "name": "stdout",
     "output_type": "stream",
     "text": [
      "root\n",
      " |-- step: long (nullable = true)\n",
      " |-- type: string (nullable = true)\n",
      " |-- amount: double (nullable = true)\n",
      " |-- nameOrig: string (nullable = true)\n",
      " |-- oldbalanceOrg: double (nullable = true)\n",
      " |-- newbalanceOrig: double (nullable = true)\n",
      " |-- nameDest: string (nullable = true)\n",
      " |-- oldbalanceDest: double (nullable = true)\n",
      " |-- newbalanceDest: double (nullable = true)\n",
      " |-- isFraud: long (nullable = true)\n",
      " |-- orgDiff: double (nullable = true)\n",
      " |-- destDiff: double (nullable = true)\n",
      "\n"
     ]
    }
   ],
   "source": [
    "original_fin_fraud_df.printSchema()"
   ]
  },
  {
   "cell_type": "code",
   "execution_count": 21,
   "id": "ca81c38c",
   "metadata": {},
   "outputs": [
    {
     "name": "stdout",
     "output_type": "stream",
     "text": [
      "+----+--------+---------+-----------+-------------+--------------+-----------+--------------+--------------+-------+-------------------+-------------------+\n",
      "|step|    type|   amount|   nameOrig|oldbalanceOrg|newbalanceOrig|   nameDest|oldbalanceDest|newbalanceDest|isFraud|            orgDiff|           destDiff|\n",
      "+----+--------+---------+-----------+-------------+--------------+-----------+--------------+--------------+-------+-------------------+-------------------+\n",
      "|   1| PAYMENT|  9839.64|C1231006815|     170136.0|     160296.36|M1979787155|           0.0|           0.0|      0| -9839.640000000014|                0.0|\n",
      "|   1| PAYMENT|  1864.28|C1666544295|      21249.0|      19384.72|M2044282225|           0.0|           0.0|      0|-1864.2799999999988|                0.0|\n",
      "|   1|TRANSFER|    181.0|C1305486145|        181.0|           0.0| C553264065|           0.0|           0.0|      1|             -181.0|                0.0|\n",
      "|   1|CASH_OUT|    181.0| C840083671|        181.0|           0.0|  C38997010|       21182.0|           0.0|      1|             -181.0|           -21182.0|\n",
      "|   1| PAYMENT| 11668.14|C2048537720|      41554.0|      29885.86|M1230701703|           0.0|           0.0|      0|          -11668.14|                0.0|\n",
      "|   1| PAYMENT|  7817.71|  C90045638|      53860.0|      46042.29| M573487274|           0.0|           0.0|      0| -7817.709999999999|                0.0|\n",
      "|   1| PAYMENT|  7107.77| C154988899|     183195.0|     176087.23| M408069119|           0.0|           0.0|      0|-7107.7699999999895|                0.0|\n",
      "|   1| PAYMENT|  7861.64|C1912850431|    176087.23|     168225.59| M633326333|           0.0|           0.0|      0| -7861.640000000014|                0.0|\n",
      "|   1| PAYMENT|  4024.36|C1265012928|       2671.0|           0.0|M1176932104|           0.0|           0.0|      0|            -2671.0|                0.0|\n",
      "|   1|   DEBIT|  5337.77| C712410124|      41720.0|      36382.23| C195600860|       41898.0|      40348.79|      0| -5337.769999999997|-1549.2099999999991|\n",
      "|   1|   DEBIT|  9644.94|C1900366749|       4465.0|           0.0| C997608398|       10845.0|     157982.12|      0|            -4465.0|          147137.12|\n",
      "|   1| PAYMENT|  3099.97| C249177573|      20771.0|      17671.03|M2096539129|           0.0|           0.0|      0| -3099.970000000001|                0.0|\n",
      "|   1| PAYMENT|  2560.74|C1648232591|       5070.0|       2509.26| M972865270|           0.0|           0.0|      0|           -2560.74|                0.0|\n",
      "|   1| PAYMENT| 11633.76|C1716932897|      10127.0|           0.0| M801569151|           0.0|           0.0|      0|           -10127.0|                0.0|\n",
      "|   1| PAYMENT|  4098.78|C1026483832|     503264.0|     499165.22|M1635378213|           0.0|           0.0|      0| -4098.780000000028|                0.0|\n",
      "|   1|CASH_OUT|229133.94| C905080434|      15325.0|           0.0| C476402209|        5083.0|      51513.44|      0|           -15325.0|           46430.44|\n",
      "|   1| PAYMENT|  1563.82| C761750706|        450.0|           0.0|M1731217984|           0.0|           0.0|      0|             -450.0|                0.0|\n",
      "|   1| PAYMENT|  1157.86|C1237762639|      21156.0|      19998.14|M1877062907|           0.0|           0.0|      0|-1157.8600000000006|                0.0|\n",
      "|   1| PAYMENT|   671.64|C2033524545|      15123.0|      14451.36| M473053293|           0.0|           0.0|      0| -671.6399999999994|                0.0|\n",
      "|   1|TRANSFER| 215310.3|C1670993182|        705.0|           0.0|C1100439041|       22425.0|           0.0|      0|             -705.0|           -22425.0|\n",
      "+----+--------+---------+-----------+-------------+--------------+-----------+--------------+--------------+-------+-------------------+-------------------+\n",
      "only showing top 20 rows\n",
      "\n"
     ]
    }
   ],
   "source": [
    "#review the new table\n",
    "original_fin_fraud_df.show()"
   ]
  },
  {
   "cell_type": "markdown",
   "id": "715fd973",
   "metadata": {},
   "source": [
    "## Exploring Data Analysis\n",
    "Questions on our Data"
   ]
  },
  {
   "cell_type": "markdown",
   "id": "f0badd8d",
   "metadata": {},
   "source": [
    "### What are the type of transactions?"
   ]
  },
  {
   "cell_type": "code",
   "execution_count": 22,
   "id": "e0c1ba16",
   "metadata": {},
   "outputs": [],
   "source": [
    "%load_ext sparksql_magic"
   ]
  },
  {
   "cell_type": "markdown",
   "id": "b2fd0927",
   "metadata": {},
   "source": [
    "%config SparkSql.limit=20"
   ]
  },
  {
   "cell_type": "code",
   "execution_count": 23,
   "id": "52439c69",
   "metadata": {},
   "outputs": [
    {
     "name": "stderr",
     "output_type": "stream",
     "text": [
      "                                                                                \r"
     ]
    },
    {
     "data": {
      "text/html": [
       "<table><tr style=\"border-bottom: 1px solid\"><td style=\"font-weight: bold\">type</td><td style=\"font-weight: bold\">count(1)</td></tr><tr><td>CASH_IN</td><td>1399284</td></tr><tr><td>TRANSFER</td><td>532909</td></tr><tr><td>CASH_OUT</td><td>2237500</td></tr><tr><td>DEBIT</td><td>41432</td></tr><tr><td>PAYMENT</td><td>2151495</td></tr></table>"
      ],
      "text/plain": [
       "<IPython.core.display.HTML object>"
      ]
     },
     "execution_count": 23,
     "metadata": {},
     "output_type": "execute_result"
    }
   ],
   "source": [
    "%%sparksql\n",
    "select type, count(1) from financials group by type"
   ]
  },
  {
   "cell_type": "markdown",
   "id": "f47bf305",
   "metadata": {},
   "source": [
    "##### plot the type of transactions"
   ]
  },
  {
   "cell_type": "code",
   "execution_count": 24,
   "id": "0e18d98f",
   "metadata": {},
   "outputs": [
    {
     "name": "stderr",
     "output_type": "stream",
     "text": [
      "                                                                                \r"
     ]
    }
   ],
   "source": [
    "#collect type of transactions\n",
    "type_transactions = 'select type, count(1) from financials group by type'\n",
    "collected_data1 = spark.sql(type_transactions).collect()"
   ]
  },
  {
   "cell_type": "code",
   "execution_count": 25,
   "id": "88581ba4",
   "metadata": {},
   "outputs": [
    {
     "data": {
      "text/plain": [
       "[Row(type='CASH_IN', count(1)=1399284),\n",
       " Row(type='TRANSFER', count(1)=532909),\n",
       " Row(type='CASH_OUT', count(1)=2237500),\n",
       " Row(type='DEBIT', count(1)=41432),\n",
       " Row(type='PAYMENT', count(1)=2151495)]"
      ]
     },
     "execution_count": 25,
     "metadata": {},
     "output_type": "execute_result"
    }
   ],
   "source": [
    "collected_data1"
   ]
  },
  {
   "cell_type": "code",
   "execution_count": 26,
   "id": "891e4b43",
   "metadata": {},
   "outputs": [],
   "source": [
    "#convert to dataframe for plotting\n",
    "df_trans_type = pd.DataFrame(collected_data1)\n",
    "df_trans_type.rename(columns={0:'transactions', 1:'trans_total'}, inplace=True)"
   ]
  },
  {
   "cell_type": "code",
   "execution_count": 27,
   "id": "b4f0cc89",
   "metadata": {},
   "outputs": [
    {
     "data": {
      "text/html": [
       "<div>\n",
       "<style scoped>\n",
       "    .dataframe tbody tr th:only-of-type {\n",
       "        vertical-align: middle;\n",
       "    }\n",
       "\n",
       "    .dataframe tbody tr th {\n",
       "        vertical-align: top;\n",
       "    }\n",
       "\n",
       "    .dataframe thead th {\n",
       "        text-align: right;\n",
       "    }\n",
       "</style>\n",
       "<table border=\"1\" class=\"dataframe\">\n",
       "  <thead>\n",
       "    <tr style=\"text-align: right;\">\n",
       "      <th></th>\n",
       "      <th>transactions</th>\n",
       "      <th>trans_total</th>\n",
       "    </tr>\n",
       "  </thead>\n",
       "  <tbody>\n",
       "    <tr>\n",
       "      <th>0</th>\n",
       "      <td>CASH_IN</td>\n",
       "      <td>1399284</td>\n",
       "    </tr>\n",
       "    <tr>\n",
       "      <th>1</th>\n",
       "      <td>TRANSFER</td>\n",
       "      <td>532909</td>\n",
       "    </tr>\n",
       "    <tr>\n",
       "      <th>2</th>\n",
       "      <td>CASH_OUT</td>\n",
       "      <td>2237500</td>\n",
       "    </tr>\n",
       "    <tr>\n",
       "      <th>3</th>\n",
       "      <td>DEBIT</td>\n",
       "      <td>41432</td>\n",
       "    </tr>\n",
       "    <tr>\n",
       "      <th>4</th>\n",
       "      <td>PAYMENT</td>\n",
       "      <td>2151495</td>\n",
       "    </tr>\n",
       "  </tbody>\n",
       "</table>\n",
       "</div>"
      ],
      "text/plain": [
       "  transactions  trans_total\n",
       "0      CASH_IN      1399284\n",
       "1     TRANSFER       532909\n",
       "2     CASH_OUT      2237500\n",
       "3        DEBIT        41432\n",
       "4      PAYMENT      2151495"
      ]
     },
     "execution_count": 27,
     "metadata": {},
     "output_type": "execute_result"
    }
   ],
   "source": [
    "df_trans_type"
   ]
  },
  {
   "cell_type": "code",
   "execution_count": 28,
   "id": "8885786c",
   "metadata": {},
   "outputs": [
    {
     "data": {
      "image/png": "[encoded data removed]",
      "text/plain": [
       "<Figure size 640x480 with 1 Axes>"
      ]
     },
     "metadata": {},
     "output_type": "display_data"
    }
   ],
   "source": [
    "#plotting\n",
    "import matplotlib.pyplot as plt\n",
    "labels = df_trans_type.transactions\n",
    "volume = df_trans_type.trans_total\n",
    "explode = (0.2, 0.1, 0.1, 0.1, 0.1) # 5 volume to be exploded\n",
    "#pie\n",
    "plt.pie(volume, labels=labels, startangle=90,\n",
    "        shadow=True, explode=explode, autopct='%1.2f%%')\n",
    "#title\n",
    "plt.title('Type of Transactions')\n",
    "plt.axis('equal')\n",
    "plt.show()"
   ]
  },
  {
   "cell_type": "markdown",
   "id": "11773712",
   "metadata": {},
   "source": [
    "### How much money each type of transactions made(synthetically)?"
   ]
  },
  {
   "cell_type": "code",
   "execution_count": 29,
   "id": "1c315bad",
   "metadata": {},
   "outputs": [
    {
     "name": "stderr",
     "output_type": "stream",
     "text": [
      "                                                                                \r"
     ]
    },
    {
     "data": {
      "text/html": [
       "<table><tr style=\"border-bottom: 1px solid\"><td style=\"font-weight: bold\">type</td><td style=\"font-weight: bold\">sum(amount)</td></tr><tr><td>CASH_IN</td><td>236367391912.45993</td></tr><tr><td>TRANSFER</td><td>485291987263.1702</td></tr><tr><td>CASH_OUT</td><td>394412995224.4899</td></tr><tr><td>DEBIT</td><td>227199221.28000003</td></tr><tr><td>PAYMENT</td><td>28093371138.370014</td></tr></table>"
      ],
      "text/plain": [
       "<IPython.core.display.HTML object>"
      ]
     },
     "execution_count": 29,
     "metadata": {},
     "output_type": "execute_result"
    }
   ],
   "source": [
    "%%sparksql\n",
    "SELECT type, SUM(amount) FROM financials GROUP BY type"
   ]
  },
  {
   "cell_type": "markdown",
   "id": "e1b227a4",
   "metadata": {},
   "source": [
    "##### plot the the amount of money"
   ]
  },
  {
   "cell_type": "code",
   "execution_count": 30,
   "id": "cc85f9ae",
   "metadata": {},
   "outputs": [
    {
     "name": "stderr",
     "output_type": "stream",
     "text": [
      "                                                                                \r"
     ]
    }
   ],
   "source": [
    "#collect money data\n",
    "total_money_each_type_trans = 'SELECT type, SUM(amount) FROM financials GROUP BY type'\n",
    "collected_data2 = spark.sql(total_money_each_type_trans).collect()"
   ]
  },
  {
   "cell_type": "code",
   "execution_count": 31,
   "id": "943c1985",
   "metadata": {},
   "outputs": [
    {
     "data": {
      "text/html": [
       "<div>\n",
       "<style scoped>\n",
       "    .dataframe tbody tr th:only-of-type {\n",
       "        vertical-align: middle;\n",
       "    }\n",
       "\n",
       "    .dataframe tbody tr th {\n",
       "        vertical-align: top;\n",
       "    }\n",
       "\n",
       "    .dataframe thead th {\n",
       "        text-align: right;\n",
       "    }\n",
       "</style>\n",
       "<table border=\"1\" class=\"dataframe\">\n",
       "  <thead>\n",
       "    <tr style=\"text-align: right;\">\n",
       "      <th></th>\n",
       "      <th>0</th>\n",
       "      <th>1</th>\n",
       "    </tr>\n",
       "  </thead>\n",
       "  <tbody>\n",
       "    <tr>\n",
       "      <th>0</th>\n",
       "      <td>CASH_IN</td>\n",
       "      <td>2.363674e+11</td>\n",
       "    </tr>\n",
       "    <tr>\n",
       "      <th>1</th>\n",
       "      <td>TRANSFER</td>\n",
       "      <td>4.852920e+11</td>\n",
       "    </tr>\n",
       "    <tr>\n",
       "      <th>2</th>\n",
       "      <td>CASH_OUT</td>\n",
       "      <td>3.944130e+11</td>\n",
       "    </tr>\n",
       "    <tr>\n",
       "      <th>3</th>\n",
       "      <td>DEBIT</td>\n",
       "      <td>2.271992e+08</td>\n",
       "    </tr>\n",
       "    <tr>\n",
       "      <th>4</th>\n",
       "      <td>PAYMENT</td>\n",
       "      <td>2.809337e+10</td>\n",
       "    </tr>\n",
       "  </tbody>\n",
       "</table>\n",
       "</div>"
      ],
      "text/plain": [
       "          0             1\n",
       "0   CASH_IN  2.363674e+11\n",
       "1  TRANSFER  4.852920e+11\n",
       "2  CASH_OUT  3.944130e+11\n",
       "3     DEBIT  2.271992e+08\n",
       "4   PAYMENT  2.809337e+10"
      ]
     },
     "execution_count": 31,
     "metadata": {},
     "output_type": "execute_result"
    }
   ],
   "source": [
    "pd.DataFrame(collected_data2)"
   ]
  },
  {
   "cell_type": "code",
   "execution_count": 32,
   "id": "d10c279f",
   "metadata": {},
   "outputs": [],
   "source": [
    "from math import log, floor\n",
    "\n",
    "def number_format(number):\n",
    "    #function format number to B\n",
    "    units = 'B'\n",
    "    k = 1000000000.0\n",
    "    #m = int(floor(log(number, k)))\n",
    "    return '%.3f' % (number / k)"
   ]
  },
  {
   "cell_type": "code",
   "execution_count": 33,
   "id": "186d1ddd",
   "metadata": {},
   "outputs": [],
   "source": [
    "#convert to dataframe for plotting\n",
    "df_total_money = pd.DataFrame(collected_data2)\n",
    "df_total_money.rename(columns={0:'transactions', 1:'money_total_in_Billion'}, inplace=True)\n",
    "#format to Billion\n",
    "df_total_money['money_total_in_Billion'] = \\\n",
    "            df_total_money['money_total_in_Billion'].apply(lambda x: number_format(x))\n",
    "## format to float\n",
    "df_total_money['money_total_in_Billion'] = \\\n",
    "            df_total_money['money_total_in_Billion'].apply(lambda x: float(x))"
   ]
  },
  {
   "cell_type": "code",
   "execution_count": 34,
   "id": "2f5e72f0",
   "metadata": {},
   "outputs": [],
   "source": [
    "#sort the data\n",
    "df_total_money = df_total_money.sort_values(by='money_total_in_Billion')"
   ]
  },
  {
   "cell_type": "code",
   "execution_count": 35,
   "id": "711cca5f",
   "metadata": {},
   "outputs": [
    {
     "data": {
      "text/html": [
       "<div>\n",
       "<style scoped>\n",
       "    .dataframe tbody tr th:only-of-type {\n",
       "        vertical-align: middle;\n",
       "    }\n",
       "\n",
       "    .dataframe tbody tr th {\n",
       "        vertical-align: top;\n",
       "    }\n",
       "\n",
       "    .dataframe thead th {\n",
       "        text-align: right;\n",
       "    }\n",
       "</style>\n",
       "<table border=\"1\" class=\"dataframe\">\n",
       "  <thead>\n",
       "    <tr style=\"text-align: right;\">\n",
       "      <th></th>\n",
       "      <th>transactions</th>\n",
       "      <th>money_total_in_Billion</th>\n",
       "    </tr>\n",
       "  </thead>\n",
       "  <tbody>\n",
       "    <tr>\n",
       "      <th>3</th>\n",
       "      <td>DEBIT</td>\n",
       "      <td>0.227</td>\n",
       "    </tr>\n",
       "    <tr>\n",
       "      <th>4</th>\n",
       "      <td>PAYMENT</td>\n",
       "      <td>28.093</td>\n",
       "    </tr>\n",
       "    <tr>\n",
       "      <th>0</th>\n",
       "      <td>CASH_IN</td>\n",
       "      <td>236.367</td>\n",
       "    </tr>\n",
       "    <tr>\n",
       "      <th>2</th>\n",
       "      <td>CASH_OUT</td>\n",
       "      <td>394.413</td>\n",
       "    </tr>\n",
       "    <tr>\n",
       "      <th>1</th>\n",
       "      <td>TRANSFER</td>\n",
       "      <td>485.292</td>\n",
       "    </tr>\n",
       "  </tbody>\n",
       "</table>\n",
       "</div>"
      ],
      "text/plain": [
       "  transactions  money_total_in_Billion\n",
       "3        DEBIT                   0.227\n",
       "4      PAYMENT                  28.093\n",
       "0      CASH_IN                 236.367\n",
       "2     CASH_OUT                 394.413\n",
       "1     TRANSFER                 485.292"
      ]
     },
     "execution_count": 35,
     "metadata": {},
     "output_type": "execute_result"
    }
   ],
   "source": [
    "df_total_money"
   ]
  },
  {
   "cell_type": "code",
   "execution_count": 36,
   "id": "0f583a18",
   "metadata": {},
   "outputs": [
    {
     "data": {
      "image/png": "[encoded data removed]",
      "text/plain": [
       "<Figure size 640x480 with 1 Axes>"
      ]
     },
     "metadata": {},
     "output_type": "display_data"
    }
   ],
   "source": [
    "#plotting\n",
    "import matplotlib as mpl\n",
    "import matplotlib.pyplot as plt\n",
    "labels = df_total_money.transactions\n",
    "y_pos = np.arange(len(labels))\n",
    "volume = df_total_money.money_total_in_Billion\n",
    "#bar chart\n",
    "fig, ax = plt.subplots()\n",
    "\n",
    "hbars = ax.barh(y_pos, volume, align='center')\n",
    "ax.set_yticks(y_pos, labels=labels)\n",
    "ax.invert_yaxis()\n",
    "ax.set_xlabel('total money (Billion) each type trans')\n",
    "ax.set_title('Total money (Billion) of each type of trans')\n",
    "\n",
    "#Label with specially formatted floats\n",
    "ax.bar_label(ax.containers[0])\n",
    "plt.show()"
   ]
  },
  {
   "cell_type": "markdown",
   "id": "6dbb1536",
   "metadata": {},
   "source": [
    "#### How much money each destination account received from all type of transactions?"
   ]
  },
  {
   "cell_type": "code",
   "execution_count": 37,
   "id": "582146c3",
   "metadata": {},
   "outputs": [
    {
     "name": "stderr",
     "output_type": "stream",
     "text": [
      "[Stage 17:===============================================>      (154 + 8) / 175]\r"
     ]
    },
    {
     "name": "stdout",
     "output_type": "stream",
     "text": [
      "only showing top 20 row(s)\n"
     ]
    },
    {
     "name": "stderr",
     "output_type": "stream",
     "text": [
      "\r",
      "[Stage 17:==================================================>   (164 + 9) / 175]\r",
      "\r",
      "                                                                                \r"
     ]
    },
    {
     "data": {
      "text/html": [
       "<table><tr style=\"border-bottom: 1px solid\"><td style=\"font-weight: bold\">nameDest</td><td style=\"font-weight: bold\">count_trans</td><td style=\"font-weight: bold\">total_amount</td></tr><tr><td>C1286084959</td><td>113</td><td>77428943.31</td></tr><tr><td>C985934102</td><td>109</td><td>42422887.97999998</td></tr><tr><td>C665576141</td><td>105</td><td>88749384.38000003</td></tr><tr><td>C2083562754</td><td>102</td><td>53073938.76</td></tr><tr><td>C1590550415</td><td>101</td><td>43206101.59000002</td></tr><tr><td>C248609774</td><td>101</td><td>40680160.99000001</td></tr><tr><td>C1789550256</td><td>99</td><td>177885264.60000002</td></tr><tr><td>C451111351</td><td>99</td><td>37453031.38999999</td></tr><tr><td>C1360767589</td><td>98</td><td>35121289.27000002</td></tr><tr><td>C1023714065</td><td>97</td><td>42402918.4</td></tr><tr><td>C97730845</td><td>96</td><td>129767947.61999999</td></tr><tr><td>C977993101</td><td>96</td><td>26597101.03</td></tr><tr><td>C392292416</td><td>95</td><td>30221193.33</td></tr><tr><td>C1899073220</td><td>92</td><td>30782445.72</td></tr><tr><td>C306206744</td><td>91</td><td>29029492.650000006</td></tr><tr><td>C1782113663</td><td>90</td><td>30812804.699999984</td></tr><tr><td>C1234776885</td><td>90</td><td>46271784.5</td></tr><tr><td>C716083600</td><td>89</td><td>62897438.14999998</td></tr><tr><td>C998351292</td><td>89</td><td>28795475.689999998</td></tr><tr><td>C909295153</td><td>88</td><td>30802064.070000004</td></tr></table>"
      ],
      "text/plain": [
       "<IPython.core.display.HTML object>"
      ]
     },
     "execution_count": 37,
     "metadata": {},
     "output_type": "execute_result"
    }
   ],
   "source": [
    "%%sparksql\n",
    "select nameDest, count(1) as count_trans, sum(amount) as total_amount from financials group by nameDest order by 2 desc"
   ]
  },
  {
   "cell_type": "code",
   "execution_count": 38,
   "id": "665b8a51",
   "metadata": {},
   "outputs": [],
   "source": [
    "def number_format_M(number):\n",
    "    #function format number to Million\n",
    "    units = 'B'\n",
    "    k = 1000000.0\n",
    "    return '%.3f' % (number / k)"
   ]
  },
  {
   "cell_type": "markdown",
   "id": "06f93353",
   "metadata": {},
   "source": [
    "#### Ploting money recieved in each dest account "
   ]
  },
  {
   "cell_type": "code",
   "execution_count": 39,
   "id": "3b331add",
   "metadata": {},
   "outputs": [
    {
     "name": "stderr",
     "output_type": "stream",
     "text": [
      "                                                                                \r"
     ]
    }
   ],
   "source": [
    "#collect data to convert to dataframe\n",
    "money_recd_each_destacc_sql = \"\\\n",
    "select nameDest, count(1) as count_trans, sum(amount) as total_amount \\\n",
    "from financials \\\n",
    "group by nameDest \\\n",
    "order by 2 desc \\\n",
    "limit 100\"\n",
    "#pd.DataFrame(spark.sql(money_recd_each_destacc_sql).collect())\n",
    "#convert to dataframe for plotting\n",
    "df_money_recd_each_destacc = pd.DataFrame(spark.sql(money_recd_each_destacc_sql).collect())\n",
    "df_money_recd_each_destacc.rename(columns={0:'Dest_account',\n",
    "                                     1:'count_trans', \n",
    "                                     2:'total_amount_Million'}, inplace=True)"
   ]
  },
  {
   "cell_type": "code",
   "execution_count": 40,
   "id": "15f177ca",
   "metadata": {},
   "outputs": [
    {
     "data": {
      "text/html": [
       "<div>\n",
       "<style scoped>\n",
       "    .dataframe tbody tr th:only-of-type {\n",
       "        vertical-align: middle;\n",
       "    }\n",
       "\n",
       "    .dataframe tbody tr th {\n",
       "        vertical-align: top;\n",
       "    }\n",
       "\n",
       "    .dataframe thead th {\n",
       "        text-align: right;\n",
       "    }\n",
       "</style>\n",
       "<table border=\"1\" class=\"dataframe\">\n",
       "  <thead>\n",
       "    <tr style=\"text-align: right;\">\n",
       "      <th></th>\n",
       "      <th>Dest_account</th>\n",
       "      <th>count_trans</th>\n",
       "      <th>total_amount_Million</th>\n",
       "    </tr>\n",
       "  </thead>\n",
       "  <tbody>\n",
       "    <tr>\n",
       "      <th>0</th>\n",
       "      <td>C1286084959</td>\n",
       "      <td>113</td>\n",
       "      <td>77428943.31</td>\n",
       "    </tr>\n",
       "    <tr>\n",
       "      <th>1</th>\n",
       "      <td>C985934102</td>\n",
       "      <td>109</td>\n",
       "      <td>42422887.98</td>\n",
       "    </tr>\n",
       "    <tr>\n",
       "      <th>2</th>\n",
       "      <td>C665576141</td>\n",
       "      <td>105</td>\n",
       "      <td>88749384.38</td>\n",
       "    </tr>\n",
       "    <tr>\n",
       "      <th>3</th>\n",
       "      <td>C2083562754</td>\n",
       "      <td>102</td>\n",
       "      <td>53073938.76</td>\n",
       "    </tr>\n",
       "    <tr>\n",
       "      <th>4</th>\n",
       "      <td>C1590550415</td>\n",
       "      <td>101</td>\n",
       "      <td>43206101.59</td>\n",
       "    </tr>\n",
       "  </tbody>\n",
       "</table>\n",
       "</div>"
      ],
      "text/plain": [
       "  Dest_account  count_trans  total_amount_Million\n",
       "0  C1286084959          113           77428943.31\n",
       "1   C985934102          109           42422887.98\n",
       "2   C665576141          105           88749384.38\n",
       "3  C2083562754          102           53073938.76\n",
       "4  C1590550415          101           43206101.59"
      ]
     },
     "execution_count": 40,
     "metadata": {},
     "output_type": "execute_result"
    }
   ],
   "source": [
    "df_money_recd_each_destacc.head(5)"
   ]
  },
  {
   "cell_type": "code",
   "execution_count": 41,
   "id": "7fdf764e",
   "metadata": {},
   "outputs": [],
   "source": [
    "#format to Million column TotalOrgDiff, TotalDestDiff\n",
    "df_money_recd_each_destacc = df_money_recd_each_destacc.set_index('Dest_account')\n",
    "df_money_recd_each_destacc['total_amount_Million'] = \\\n",
    "            df_money_recd_each_destacc['total_amount_Million'].apply(lambda x: float(number_format_M(x)))"
   ]
  },
  {
   "cell_type": "code",
   "execution_count": 42,
   "id": "c89dd57f",
   "metadata": {},
   "outputs": [
    {
     "data": {
      "text/html": [
       "<div>\n",
       "<style scoped>\n",
       "    .dataframe tbody tr th:only-of-type {\n",
       "        vertical-align: middle;\n",
       "    }\n",
       "\n",
       "    .dataframe tbody tr th {\n",
       "        vertical-align: top;\n",
       "    }\n",
       "\n",
       "    .dataframe thead th {\n",
       "        text-align: right;\n",
       "    }\n",
       "</style>\n",
       "<table border=\"1\" class=\"dataframe\">\n",
       "  <thead>\n",
       "    <tr style=\"text-align: right;\">\n",
       "      <th></th>\n",
       "      <th>count_trans</th>\n",
       "      <th>total_amount_Million</th>\n",
       "    </tr>\n",
       "    <tr>\n",
       "      <th>Dest_account</th>\n",
       "      <th></th>\n",
       "      <th></th>\n",
       "    </tr>\n",
       "  </thead>\n",
       "  <tbody>\n",
       "    <tr>\n",
       "      <th>C1286084959</th>\n",
       "      <td>113</td>\n",
       "      <td>77.429</td>\n",
       "    </tr>\n",
       "    <tr>\n",
       "      <th>C985934102</th>\n",
       "      <td>109</td>\n",
       "      <td>42.423</td>\n",
       "    </tr>\n",
       "    <tr>\n",
       "      <th>C665576141</th>\n",
       "      <td>105</td>\n",
       "      <td>88.749</td>\n",
       "    </tr>\n",
       "    <tr>\n",
       "      <th>C2083562754</th>\n",
       "      <td>102</td>\n",
       "      <td>53.074</td>\n",
       "    </tr>\n",
       "    <tr>\n",
       "      <th>C1590550415</th>\n",
       "      <td>101</td>\n",
       "      <td>43.206</td>\n",
       "    </tr>\n",
       "  </tbody>\n",
       "</table>\n",
       "</div>"
      ],
      "text/plain": [
       "              count_trans  total_amount_Million\n",
       "Dest_account                                   \n",
       "C1286084959           113                77.429\n",
       "C985934102            109                42.423\n",
       "C665576141            105                88.749\n",
       "C2083562754           102                53.074\n",
       "C1590550415           101                43.206"
      ]
     },
     "execution_count": 42,
     "metadata": {},
     "output_type": "execute_result"
    }
   ],
   "source": [
    "df_money_recd_each_destacc.head(5)"
   ]
  },
  {
   "cell_type": "code",
   "execution_count": 43,
   "id": "e9a7b71e",
   "metadata": {},
   "outputs": [
    {
     "name": "stderr",
     "output_type": "stream",
     "text": [
      "findfont: Font family ['Calibri'] not found. Falling back to DejaVu Sans.\n"
     ]
    },
    {
     "data": {
      "image/png": "[encoded data removed]",
      "text/plain": [
       "<Figure size 1200x1000 with 2 Axes>"
      ]
     },
     "metadata": {},
     "output_type": "display_data"
    }
   ],
   "source": [
    "#library\n",
    "import matplotlib.pyplot as plt\n",
    "\n",
    "#Create lists of variables\n",
    "font_color = '#525252'\n",
    "hfont = {'fontname':\"Calibri\"}\n",
    "facecolor = '#eaeaf2'\n",
    "color_red = '#fd625e'\n",
    "color_blue = '#01b8aa'\n",
    "index = df_money_recd_each_destacc.index\n",
    "col0 = df_money_recd_each_destacc['count_trans']\n",
    "col1 = df_money_recd_each_destacc['total_amount_Million']\n",
    "title0 = 'Total amount money(Million) recieved by destination account'\n",
    "title1 = \"Total count of transactions destination account made\"\n",
    "\n",
    "fig, (ax1, ax2) = plt.subplots(1, 2, figsize=(12,10), facecolor=facecolor, sharey=True)\n",
    "fig.tight_layout()\n",
    "\n",
    "#plot bars\n",
    "ax1.barh(index, col0, align='center', color=color_red, zorder=10)\n",
    "ax1.set_title(title1, fontsize=11, pad=15, color=color_red, **hfont)\n",
    "ax2.barh(index, col1, align='center', color=color_blue, zorder=10)\n",
    "ax2.set_title(title0, fontsize=11, pad=15, color=color_blue, **hfont)\n",
    "\n",
    "#invert ax1 to back to back with ax2\n",
    "ax1.invert_xaxis()\n",
    "#set ticks\n",
    "ax1.set(yticks=df_money_recd_each_destacc.index, yticklabels=df_money_recd_each_destacc.index)\n",
    "ax1.yaxis.tick_left()\n",
    "ax1.tick_params(axis='y', colors='black')\n",
    "ax1.set_xticks([0,10,40,60,80,120])\n",
    "ax2.set_xticks([0,10,40,60,80,120])\n",
    "#ax1.set_yticks(color_blue)\n",
    "#adjust subplots\n",
    "plt.subplots_adjust(wspace=0.04, top=0.85, bottom=0.1, left=0.18, right=0.95)\n",
    "\n",
    "plt.show()"
   ]
  },
  {
   "cell_type": "markdown",
   "id": "c4e5a4b3",
   "metadata": {},
   "source": [
    "### Rules-based Model: Create a set of rules to identify fraud based on know cases\n",
    "\n",
    "* This is an example of using WHERE clause in SQL to create set of rules to identify know fraud-bases cases, bases on some suspecting transations, we can flag out those as fraud\n",
    "* in reality, expert in Financial and bank needed to establish rules, and rules are often much larger and more complicated"
   ]
  },
  {
   "cell_type": "code",
   "execution_count": 45,
   "id": "ebf414d3",
   "metadata": {},
   "outputs": [
    {
     "name": "stderr",
     "output_type": "stream",
     "text": [
      "[Stage 24:=====================================================>(689 + 8) / 700]\r"
     ]
    },
    {
     "name": "stdout",
     "output_type": "stream",
     "text": [
      "Based on these rules, we have flagged 255640 (0.04017841706718302) fraud cases out of a total of 6362620 cases.\n"
     ]
    },
    {
     "name": "stderr",
     "output_type": "stream",
     "text": [
      "\r",
      "                                                                                \r"
     ]
    }
   ],
   "source": [
    "from pyspark.sql import functions as F\n",
    "#set of rules to identify known Fraud-based\n",
    "rules_fraud_based_df = original_fin_fraud_df.withColumn(\"label\",\n",
    "                  F.when(\n",
    "                  (\n",
    "                    (original_fin_fraud_df.oldbalanceOrg <= 56900) &\\\n",
    "                      (original_fin_fraud_df.type == 'TRANSFER') &\\\n",
    "                      (original_fin_fraud_df.newbalanceDest <= 105))|\\\n",
    "                (\n",
    "                    (original_fin_fraud_df.oldbalanceOrg > 56900) &\\\n",
    "                      (original_fin_fraud_df.newbalanceOrig <= 12)) |\\\n",
    "                (\n",
    "                    (original_fin_fraud_df.oldbalanceOrg > 56900) &\\\n",
    "                      (original_fin_fraud_df.newbalanceOrig > 12) &\\\n",
    "                        (original_fin_fraud_df.amount > 1160000))\\\n",
    "                      ,1).otherwise(0))\n",
    "\n",
    "#Calcualte proportions\n",
    "fraud_cases = rules_fraud_based_df.filter(rules_fraud_based_df.label == 1).count()\n",
    "total_cases = rules_fraud_based_df.count()\n",
    "fraud_pct = 1.*fraud_cases/total_cases\n",
    "\n",
    "#provide a quick statistics\n",
    "print(\"Based on these rules, we have flagged %s (%s) fraud cases out of a total of %s cases.\"\\\n",
    "     % (fraud_cases, fraud_pct, total_cases))\n",
    "\n",
    "#Create temporary view to review data\n",
    "rules_fraud_based_df.createOrReplaceTempView(\"financials_labeled\")"
   ]
  },
  {
   "cell_type": "code",
   "execution_count": 46,
   "id": "5a1e8865",
   "metadata": {},
   "outputs": [
    {
     "data": {
      "text/plain": [
       "DataFrame[step: bigint, type: string, amount: double, nameOrig: string, oldbalanceOrg: double, newbalanceOrig: double, nameDest: string, oldbalanceDest: double, newbalanceDest: double, isFraud: bigint, orgDiff: double, destDiff: double, label: int]"
      ]
     },
     "execution_count": 46,
     "metadata": {},
     "output_type": "execute_result"
    }
   ],
   "source": [
    "rules_fraud_based_df"
   ]
  },
  {
   "cell_type": "code",
   "execution_count": 47,
   "id": "bc6fc5ff",
   "metadata": {},
   "outputs": [
    {
     "name": "stderr",
     "output_type": "stream",
     "text": [
      "                                                                                \r"
     ]
    },
    {
     "data": {
      "text/html": [
       "<table><tr style=\"border-bottom: 1px solid\"><td style=\"font-weight: bold\">label</td><td style=\"font-weight: bold\">count(1)</td><td style=\"font-weight: bold\">sum(amount)</td></tr><tr><td>1</td><td>255640</td><td>129324296676.48004</td></tr><tr><td>0</td><td>6106980</td><td>1015068648083.29</td></tr></table>"
      ],
      "text/plain": [
       "<IPython.core.display.HTML object>"
      ]
     },
     "execution_count": 47,
     "metadata": {},
     "output_type": "execute_result"
    }
   ],
   "source": [
    "%%sparksql\n",
    "SELECT label, COUNT(1), SUM(amount) FROM financials_labeled GROUP BY label"
   ]
  },
  {
   "cell_type": "markdown",
   "id": "ca2d5362",
   "metadata": {},
   "source": [
    "#### plotting those bases_rule fraud cases"
   ]
  },
  {
   "cell_type": "code",
   "execution_count": 48,
   "id": "88c4cb82",
   "metadata": {},
   "outputs": [
    {
     "name": "stderr",
     "output_type": "stream",
     "text": [
      "                                                                                \r"
     ]
    }
   ],
   "source": [
    "#fraud_base_rules dataset\n",
    "based_rules_sql = 'SELECT label,\\\n",
    "                    COUNT(1) as Transactions,\\\n",
    "                    SUM(amount) as Total_amount FROM financials_labeled GROUP BY label'\n",
    "collected_data3 = spark.sql(based_rules_sql).collect()"
   ]
  },
  {
   "cell_type": "code",
   "execution_count": 49,
   "id": "7c793eaf",
   "metadata": {},
   "outputs": [
    {
     "data": {
      "text/plain": [
       "[Row(label=1, Transactions=255640, Total_amount=129324296676.48004),\n",
       " Row(label=0, Transactions=6106980, Total_amount=1015068648083.29)]"
      ]
     },
     "execution_count": 49,
     "metadata": {},
     "output_type": "execute_result"
    }
   ],
   "source": [
    "collected_data3"
   ]
  },
  {
   "cell_type": "code",
   "execution_count": 50,
   "id": "8567397a",
   "metadata": {},
   "outputs": [],
   "source": [
    "#convert to dataframe for plotting\n",
    "df_based_rules = pd.DataFrame(collected_data3)\n",
    "df_based_rules.rename(columns={0:'label', 1:'transactions', 2:'total_amount'}, inplace=True)\n",
    "df_based_rules['flagged_label'] = np.where(df_based_rules['label']==1, 'fraud', 'normal')"
   ]
  },
  {
   "cell_type": "code",
   "execution_count": 51,
   "id": "cce4a22b",
   "metadata": {},
   "outputs": [
    {
     "data": {
      "text/html": [
       "<div>\n",
       "<style scoped>\n",
       "    .dataframe tbody tr th:only-of-type {\n",
       "        vertical-align: middle;\n",
       "    }\n",
       "\n",
       "    .dataframe tbody tr th {\n",
       "        vertical-align: top;\n",
       "    }\n",
       "\n",
       "    .dataframe thead th {\n",
       "        text-align: right;\n",
       "    }\n",
       "</style>\n",
       "<table border=\"1\" class=\"dataframe\">\n",
       "  <thead>\n",
       "    <tr style=\"text-align: right;\">\n",
       "      <th></th>\n",
       "      <th>label</th>\n",
       "      <th>transactions</th>\n",
       "      <th>total_amount</th>\n",
       "      <th>flagged_label</th>\n",
       "    </tr>\n",
       "  </thead>\n",
       "  <tbody>\n",
       "    <tr>\n",
       "      <th>0</th>\n",
       "      <td>1</td>\n",
       "      <td>255640</td>\n",
       "      <td>1.293243e+11</td>\n",
       "      <td>fraud</td>\n",
       "    </tr>\n",
       "    <tr>\n",
       "      <th>1</th>\n",
       "      <td>0</td>\n",
       "      <td>6106980</td>\n",
       "      <td>1.015069e+12</td>\n",
       "      <td>normal</td>\n",
       "    </tr>\n",
       "  </tbody>\n",
       "</table>\n",
       "</div>"
      ],
      "text/plain": [
       "   label  transactions  total_amount flagged_label\n",
       "0      1        255640  1.293243e+11         fraud\n",
       "1      0       6106980  1.015069e+12        normal"
      ]
     },
     "execution_count": 51,
     "metadata": {},
     "output_type": "execute_result"
    }
   ],
   "source": [
    "df_based_rules"
   ]
  },
  {
   "cell_type": "code",
   "execution_count": 52,
   "id": "c744f69b",
   "metadata": {},
   "outputs": [
    {
     "data": {
      "image/png": "[encoded data removed]",
      "text/plain": [
       "<Figure size 1000x500 with 2 Axes>"
      ]
     },
     "metadata": {},
     "output_type": "display_data"
    }
   ],
   "source": [
    "#plotting transactions\n",
    "import matplotlib.pyplot as plt\n",
    "labels = df_based_rules.flagged_label\n",
    "volume = df_based_rules.transactions\n",
    "amount = df_based_rules.total_amount\n",
    "explode = (0.1, 0.0) #2 volumes to be exploded \n",
    "\n",
    "# double pie charts\n",
    "# Make figure and axes\n",
    "fig, axs = plt.subplots(1,2, figsize=(10, 5))\n",
    "#first pie\n",
    "axs[0].pie(volume, labels=labels, autopct='%1.2f%%',\\\n",
    "            wedgeprops= {\"edgecolor\":\"white\", 'linewidth': 1, 'antialiased': True})\n",
    "axs[0].set_title(\"Fraud percentage in total transactions\")\n",
    "\n",
    "# Adding Circle in first Pie chart\n",
    "centre_circle = plt.Circle((0, 0), 0.55, fc='white')\n",
    "axs[0].add_artist(centre_circle)\n",
    "#second pie\n",
    "axs[1].pie(amount, labels=labels, autopct='%1.2f%%',\\\n",
    "             wedgeprops= {\"edgecolor\":\"white\", 'linewidth': 1, 'antialiased': True})\n",
    "axs[1].set_title(\"Fraud percentage in total amount of money\")\n",
    "\n",
    "# Adding Circle in second Pie chart\n",
    "centre_circle = plt.Circle((0, 0), 0.55, fc='white')\n",
    "axs[1].add_artist(centre_circle)\n",
    "\n",
    "plt.show()"
   ]
  },
  {
   "cell_type": "markdown",
   "id": "6d73590e",
   "metadata": {},
   "source": [
    "Based on this based rule, 4.02% of the trans are fraudulent, it takes into account of the 11.30% of the total amount."
   ]
  },
  {
   "cell_type": "markdown",
   "id": "afd54b80",
   "metadata": {},
   "source": [
    "#### Top origination/Dest difference pairs in Total dest difference over 1M"
   ]
  },
  {
   "cell_type": "code",
   "execution_count": null,
   "id": "ba9246a1",
   "metadata": {},
   "outputs": [
    {
     "name": "stderr",
     "output_type": "stream",
     "text": [
      "[Stage 33:===============>                                      (196 + 8) / 700]\r"
     ]
    }
   ],
   "source": [
    "%%sparksql\n",
    "SELECT nameOrig, nameDest, label, TotalOrgDiff, TotalDestDiff\n",
    "FROM (\n",
    "    SELECT nameOrig, nameDest, label, SUM(OrgDiff) as TotalOrgDiff, SUM(destDiff) as TotalDestDiff\n",
    "    FROM financials_labeled\n",
    "    GROUP BY nameOrig, nameDest, label) a\n",
    "WHERE TotalDestDiff >= 1000000\n",
    "limit 100"
   ]
  },
  {
   "cell_type": "markdown",
   "id": "3db69e0f",
   "metadata": {},
   "source": [
    "#### Plotting Orig/Dest difference pairs"
   ]
  },
  {
   "cell_type": "code",
   "execution_count": null,
   "id": "6a244005",
   "metadata": {},
   "outputs": [],
   "source": [
    "#collect data to convert to dataframe\n",
    "orig_dest_diff_sql = \"\\\n",
    "SELECT a.nameOrig, a.nameDest, a.label, a.TotalOrgDiff, a.TotalDestDiff \\\n",
    "FROM (SELECT nameOrig, nameDest, label, SUM(OrgDiff) as TotalOrgDiff, SUM(destDiff) as TotalDestDiff \\\n",
    "        FROM financials_labeled GROUP BY nameOrig, nameDest, label) as a \\\n",
    "WHERE TotalDestDiff >= 1000000 LIMIT 100\"\n",
    "\n",
    "collected_data4 = spark.sql(orig_dest_diff_sql).collect()"
   ]
  },
  {
   "cell_type": "code",
   "execution_count": null,
   "id": "c924265d",
   "metadata": {},
   "outputs": [],
   "source": [
    "collected_data4"
   ]
  },
  {
   "cell_type": "code",
   "execution_count": null,
   "id": "68905484",
   "metadata": {},
   "outputs": [],
   "source": [
    "pd.DataFrame(collected_data4)"
   ]
  },
  {
   "cell_type": "code",
   "execution_count": null,
   "id": "41c999c1",
   "metadata": {},
   "outputs": [],
   "source": [
    "#convert to dataframe for plotting\n",
    "df_top_diff_Org_Dest = pd.DataFrame(collected_data4)\n",
    "df_top_diff_Org_Dest.rename(columns={0:'nameOrig',\n",
    "                                     1:'nameDest', \n",
    "                                     2:'label',\n",
    "                                    3:'TotalOrgDiff',\n",
    "                                    4:'TotalDestDiff'}, inplace=True)\n",
    "df_top_diff_Org_Dest['flagged_label'] = np.where(df_top_diff_Org_Dest['label']==1, 'fraud', 'normal')\n",
    "df_top_diff_Org_Dest['name'] = df_top_diff_Org_Dest.nameOrig + df_top_diff_Org_Dest.nameDest"
   ]
  },
  {
   "cell_type": "code",
   "execution_count": null,
   "id": "27a0a221",
   "metadata": {},
   "outputs": [],
   "source": [
    "df_top_diff_Org_Dest"
   ]
  },
  {
   "cell_type": "code",
   "execution_count": null,
   "id": "6535eeae",
   "metadata": {},
   "outputs": [],
   "source": [
    "def number_format_M(number):\n",
    "    #function format number to Million\n",
    "    units = 'B'\n",
    "    k = 1000000.0\n",
    "    return '%.3f' % (number / k)"
   ]
  },
  {
   "cell_type": "code",
   "execution_count": null,
   "id": "87b64cab",
   "metadata": {},
   "outputs": [],
   "source": [
    "#format to Million column TotalOrgDiff, TotalDestDiff\n",
    "df_top_diff_Org_Dest['TotalOrgDiff'] = \\\n",
    "            df_top_diff_Org_Dest['TotalOrgDiff'].apply(lambda x: number_format_M(x))\n",
    "df_top_diff_Org_Dest['TotalDestDiff'] = \\\n",
    "            df_top_diff_Org_Dest['TotalDestDiff'].apply(lambda x: number_format_M(x))"
   ]
  },
  {
   "cell_type": "code",
   "execution_count": null,
   "id": "c0580f2b",
   "metadata": {},
   "outputs": [],
   "source": [
    "df_top_diff_Org_Dest.info()"
   ]
  },
  {
   "cell_type": "code",
   "execution_count": null,
   "id": "b6700348",
   "metadata": {},
   "outputs": [],
   "source": [
    "#for plotting easier\n",
    "df_top_diff_Org_Dest = df_top_diff_Org_Dest.set_index('name')\n",
    "df_top_diff_Org_Dest = df_top_diff_Org_Dest[['TotalOrgDiff', 'TotalDestDiff']]\n",
    "#convert orgdiff and destdiff to int\n",
    "df_top_diff_Org_Dest['TotalOrgDiff'] = \\\n",
    "            df_top_diff_Org_Dest['TotalOrgDiff'].apply(lambda x: abs(float(x)))\n",
    "df_top_diff_Org_Dest['TotalDestDiff'] = \\\n",
    "            df_top_diff_Org_Dest['TotalDestDiff'].apply(lambda x: abs(float(x)))\n",
    "#convert to ab\n",
    "df_top_diff_Org_Dest.head(5)"
   ]
  },
  {
   "cell_type": "code",
   "execution_count": null,
   "id": "454a0d45",
   "metadata": {},
   "outputs": [],
   "source": [
    "#library\n",
    "import matplotlib.pyplot as plt\n",
    "\n",
    "#Create lists of variables\n",
    "font_color = '#525252'\n",
    "hfont = {'fontname':\"Calibri\"}\n",
    "facecolor = '#eaeaf2'\n",
    "color_red = '#fd625e'\n",
    "color_blue = '#01b8aa'\n",
    "index = df_top_diff_Org_Dest.index\n",
    "col0 = df_top_diff_Org_Dest['TotalOrgDiff']\n",
    "col1 = df_top_diff_Org_Dest['TotalDestDiff']\n",
    "title0 = 'Total Org difference in million currency per typetransaction'\n",
    "title1 = \"Total Dest difference in million currency per type transaction\"\n",
    "\n",
    "fig, (ax1, ax2) = plt.subplots(1, 2, figsize=(12,10), facecolor=facecolor, sharey=True)\n",
    "fig.tight_layout()\n",
    "\n",
    "#plot bars\n",
    "ax1.barh(index, col0, align='center', color=color_red, zorder=10)\n",
    "ax1.set_title(title0, fontsize=11, pad=15, color=color_red, **hfont)\n",
    "ax2.barh(index, col1, align='center', color=color_blue, zorder=10)\n",
    "ax2.set_title(title1, fontsize=11, pad=15, color=color_blue, **hfont)\n",
    "\n",
    "#invert ax1 to back to back with ax2\n",
    "ax1.invert_xaxis()\n",
    "#set ticks\n",
    "ax1.set(yticks=df_top_diff_Org_Dest.index, yticklabels=df_top_diff_Org_Dest.index)\n",
    "ax1.yaxis.tick_left()\n",
    "ax1.tick_params(axis='y', colors='black')\n",
    "ax1.set_xticks([0,2,4,6,8,10])\n",
    "ax2.set_xticks([0,2,4,6,8,10])\n",
    "#ax1.set_yticks(color_blue)\n",
    "#adjust subplots\n",
    "plt.subplots_adjust(wspace=0.04, top=0.85, bottom=0.1, left=0.18, right=0.95)\n",
    "\n",
    "plt.show()"
   ]
  },
  {
   "cell_type": "markdown",
   "id": "bcedcf29",
   "metadata": {},
   "source": [
    "#### What type of transactions are associated with fraud?"
   ]
  },
  {
   "cell_type": "code",
   "execution_count": null,
   "id": "be59bc0c",
   "metadata": {},
   "outputs": [],
   "source": [
    "%%sparksql\n",
    "select type, label, count(1) as Transactions from financials_labeled group by type, label"
   ]
  },
  {
   "cell_type": "code",
   "execution_count": null,
   "id": "2b73ade6",
   "metadata": {},
   "outputs": [],
   "source": [
    "#collect data to convert to dataframe\n",
    "fraud_in_type_trans_sql = \"select type,\\\n",
    "                                    label,\\\n",
    "                                    count(1) as transactions\\\n",
    "                            from financials_labeled\\\n",
    "                            group by type, label;\"\n",
    "\n",
    "###\n",
    "collected_data5 = spark.sql(fraud_in_type_trans_sql).collect()"
   ]
  },
  {
   "cell_type": "code",
   "execution_count": null,
   "id": "c014a495",
   "metadata": {},
   "outputs": [],
   "source": [
    "collected_data5"
   ]
  },
  {
   "cell_type": "code",
   "execution_count": null,
   "id": "ae8be90f",
   "metadata": {},
   "outputs": [],
   "source": [
    "df_fraud_in_type_trans = pd.DataFrame(collected_data5)\n",
    "df_fraud_in_type_trans = df_fraud_in_type_trans.rename(columns={0:'type', 1:'label', 2:'sum_trans'})\n",
    "df_fraud_in_type_trans['label'] = np.where(df_fraud_in_type_trans['label'] == 1, 'fraud', 'regular')"
   ]
  },
  {
   "cell_type": "code",
   "execution_count": null,
   "id": "586f76cd",
   "metadata": {},
   "outputs": [],
   "source": [
    "df_fraud_in_type_trans"
   ]
  },
  {
   "cell_type": "markdown",
   "id": "7c469517",
   "metadata": {},
   "source": [
    "###### simplify the dataframe for plotting"
   ]
  },
  {
   "cell_type": "code",
   "execution_count": null,
   "id": "da174848",
   "metadata": {},
   "outputs": [],
   "source": [
    "###\n",
    "outer = df_fraud_in_type_trans.groupby('type').sum()"
   ]
  },
  {
   "cell_type": "code",
   "execution_count": null,
   "id": "0d7766dd",
   "metadata": {},
   "outputs": [],
   "source": [
    "outer"
   ]
  },
  {
   "cell_type": "code",
   "execution_count": null,
   "id": "5778c74a",
   "metadata": {},
   "outputs": [],
   "source": [
    "inner = df_fraud_in_type_trans.groupby(['type', 'label']).sum()"
   ]
  },
  {
   "cell_type": "code",
   "execution_count": null,
   "id": "8d444768",
   "metadata": {},
   "outputs": [],
   "source": [
    "inner"
   ]
  },
  {
   "cell_type": "code",
   "execution_count": null,
   "id": "789a42f5",
   "metadata": {},
   "outputs": [],
   "source": [
    "inner_labels = inner.index.get_level_values(1)"
   ]
  },
  {
   "cell_type": "code",
   "execution_count": null,
   "id": "96560d8c",
   "metadata": {},
   "outputs": [],
   "source": [
    "inner_labels"
   ]
  },
  {
   "cell_type": "code",
   "execution_count": null,
   "id": "20f60eb7",
   "metadata": {},
   "outputs": [],
   "source": [
    "#plotting\n",
    "import matplotlib.pyplot as plt\n",
    "\n",
    "\n",
    "fig, ax = plt.subplots(figsize=(24,12))\n",
    "size = 0.3\n",
    "#cmap color\n",
    "cmap = plt.colormaps[\"tab20c\"]\n",
    "outer_colors = cmap(np.arange(5)*4)\n",
    "inner_colors = cmap([1,2, 5,6, 9,10, 13,14, 17,18])\n",
    "#outter pie\n",
    "ax.pie(outer.values.flatten(), \n",
    "       radius=1.1, labels=outer.index, autopct='%1.5f%%', colors=outer_colors,\n",
    "      wedgeprops=dict(width=size, edgecolor='w'))\n",
    "#inner pie\n",
    "ax.pie(inner.values.flatten(), radius=1.1-size, labels=inner_labels, colors=inner_colors, \n",
    "       autopct='%1.5f%%', wedgeprops=dict(width=size, edgecolor='w'))\n",
    "#tittle\n",
    "ax.set(title=\"Fraud/not Fraud in each type of transactions associated with\")\n",
    "\n",
    "plt.show()"
   ]
  },
  {
   "cell_type": "markdown",
   "id": "10d2dbe9",
   "metadata": {},
   "source": [
    "## Rules vs. ML model\n",
    "Instead of creating specific rules that will change over time, we can be more precise and more productive by using ML model"
   ]
  },
  {
   "cell_type": "markdown",
   "id": "a528c9d7",
   "metadata": {},
   "source": [
    "#### Create training and testing datasets\n",
    "Using randomplit to create our training and testing datsets, to build and vilidate our generalized ML model"
   ]
  },
  {
   "cell_type": "code",
   "execution_count": null,
   "id": "f7d5daba",
   "metadata": {},
   "outputs": [],
   "source": [
    "#initially split our dataset\n",
    "(train, test) = original_fin_fraud_df.randomSplit([0.8, 0.2], seed=12345)\n",
    "\n",
    "#Cache the training and test datasets\n",
    "train.cache()\n",
    "test.cache()\n",
    "\n",
    "#print out dataset counts\n",
    "print(\"Total rows: %s, Training rows: %s, Test rows: %s\" %\\\n",
    "      (original_fin_fraud_df.count(), train.count(), test.count()))"
   ]
  },
  {
   "cell_type": "code",
   "execution_count": null,
   "id": "158934bb",
   "metadata": {},
   "outputs": [],
   "source": [
    "original_fin_fraud_df.show(5)"
   ]
  },
  {
   "cell_type": "markdown",
   "id": "2e3a4d3a",
   "metadata": {},
   "source": [
    "### Create ML pipeline\n",
    "When creating an ML model, there are typically a set of repeated steps(e.g. StringIndexer, VectorAssembler, etc.). By creating a ML pipeline, we can reuse this pipeline( and all of its steps) to retrain on a new and /or updated dataset."
   ]
  },
  {
   "cell_type": "code",
   "execution_count": null,
   "id": "c592c995",
   "metadata": {},
   "outputs": [],
   "source": [
    "#Libraries\n",
    "from pyspark.ml import Pipeline\n",
    "from pyspark.ml.feature import StringIndexer, OneHotEncoder, VectorAssembler\n",
    "from pyspark.ml.classification import DecisionTreeClassifier\n",
    "\n",
    "#Encodes a string column of labels to a column of label indices\n",
    "indexer = StringIndexer(inputCol=\"type\", outputCol=\"typeIndexed\")\n",
    "\n",
    "#VectorAssembler is a transformer that combines\n",
    "#a given list of columns into a single vector column\n",
    "va = VectorAssembler(inputCols=[\"typeIndexed\", \"amount\", \"oldbalanceOrg\", \"newbalanceOrig\",\n",
    "                               \"oldbalanceDest\", \"newbalanceDest\", \"orgDiff\", \"destDiff\"], outputCol=\"features\")\n",
    "\n",
    "#Using the DecisionTree classifier model\n",
    "dt = DecisionTreeClassifier(labelCol='isFraud', featuresCol='features', seed=54321, maxDepth=5)\n",
    "\n",
    "# Create our pipeline stages\n",
    "pipeline = Pipeline(stages=[indexer, va, dt])"
   ]
  },
  {
   "cell_type": "code",
   "execution_count": null,
   "id": "b93c3e52",
   "metadata": {},
   "outputs": [],
   "source": [
    "#view the Decision Tree model\n",
    "dt_model = pipeline.fit(train)"
   ]
  },
  {
   "cell_type": "code",
   "execution_count": null,
   "id": "2659b491",
   "metadata": {},
   "outputs": [],
   "source": [
    "#print(dt_model.stages[-1].toDebugString)"
   ]
  },
  {
   "cell_type": "code",
   "execution_count": null,
   "id": "4fa59f2e",
   "metadata": {},
   "outputs": [],
   "source": [
    "print(dt_model.stages[-1].toDebugString)"
   ]
  },
  {
   "cell_type": "markdown",
   "id": "97901624",
   "metadata": {},
   "source": [
    "### visualize our decision tree model\n",
    "gitrepo : https://github.com/parrt/dtreeviz/blob/master/notebooks/dtreeviz_spark_visualisations.ipynb"
   ]
  },
  {
   "cell_type": "code",
   "execution_count": null,
   "id": "296dc743",
   "metadata": {},
   "outputs": [],
   "source": [
    "#extract features input and target variable\n",
    "features_input = [\"typeIndexed\", \"amount\",\"oldbalanceOrg\", \"newbalanceOrig\",\"oldbalanceDest\",\"newbalanceDest\", \"orgDiff\", \"destDiff\"]\n",
    "target = \"isFraud\"\n",
    "\n",
    "#extract decision tree from our model\n",
    "dt_extracted = dt_model.stages[2]\n",
    "\n",
    "#recompute the dataset on which the model was trained, with StringIndexer encoding only\n",
    "dataset = Pipeline(stages=[indexer]).fit(train).transform(train).toPandas()[features_input+[target]]"
   ]
  },
  {
   "cell_type": "code",
   "execution_count": null,
   "id": "d32dd21a",
   "metadata": {},
   "outputs": [],
   "source": [
    "dataset"
   ]
  },
  {
   "cell_type": "code",
   "execution_count": null,
   "id": "89c8b4c9",
   "metadata": {},
   "outputs": [],
   "source": [
    "#import viz library\n",
    "import dtreeviz\n",
    "viz_model = dtreeviz.model(dt_extracted,\n",
    "                          X_train=dataset[features_input],\n",
    "                          y_train=dataset[target],\n",
    "                          feature_names=features_input,\n",
    "                          target_name=target, class_names=['0', '1'])"
   ]
  },
  {
   "cell_type": "code",
   "execution_count": null,
   "id": "0b93736d",
   "metadata": {},
   "outputs": [],
   "source": [
    "#take long to viz large scale data\n",
    "#viz_model.view(fancy=False)"
   ]
  },
  {
   "cell_type": "markdown",
   "id": "1b3ff9dc",
   "metadata": {},
   "source": [
    "#### Use BinaryClassificationEvaluator\n",
    "Determine the accuracy of the model by reviewing the areaUnderPR and areaUnderROC"
   ]
  },
  {
   "cell_type": "code",
   "execution_count": null,
   "id": "2b69a3be",
   "metadata": {},
   "outputs": [],
   "source": [
    "from pyspark.ml.evaluation import BinaryClassificationEvaluator\n",
    "\n",
    "#evaluate the model\n",
    "evaluatorPR = BinaryClassificationEvaluator(labelCol=\"isFraud\",\n",
    "                                            rawPredictionCol='prediction',\n",
    "                                            metricName='areaUnderPR')\n",
    "evaluatorAUC = BinaryClassificationEvaluator(labelCol=\"isFraud\",\n",
    "                                             rawPredictionCol=\"prediction\",\n",
    "                                             metricName=\"areaUnderROC\")"
   ]
  },
  {
   "cell_type": "markdown",
   "id": "bc9d9fc2",
   "metadata": {},
   "source": [
    "#### Setup CrossValidation\n",
    "To potentially improve our model, we will use CrossValidator in conjunction with the ParamGriBuilder to automate trying out different parameters.\n",
    "\n",
    "NOTE: We are using evaluatorPR as our evaluator as the Precision-Recall curve is often better for an imbalanced distribution."
   ]
  },
  {
   "cell_type": "code",
   "execution_count": null,
   "id": "1d56b8ba",
   "metadata": {},
   "outputs": [],
   "source": [
    "\n",
    "##40 minutes running time sections\n",
    "from pyspark.ml.tuning import CrossValidator, ParamGridBuilder\n",
    "\n",
    "#Build the grid of different parameters\n",
    "paramGird = ParamGridBuilder().addGrid(dt.maxDepth, [5, 10, 15]).addGrid(dt.maxBins, [10, 20, 30]).build()\n",
    "\n",
    "#Build out the cross validation\n",
    "crossval = CrossValidator(estimator=dt,\n",
    "                         estimatorParamMaps= paramGird,\n",
    "                         evaluator=evaluatorPR,\n",
    "                         numFolds=3)\n",
    "\n",
    "pipelineCV = Pipeline(stages=[indexer, va, crossval])\n",
    "\n",
    "#Train the model using the pipeline, params grid, and preceding BinaryClassificationEvaluator\n",
    "cvModel_u = pipelineCV.fit(train)"
   ]
  },
  {
   "cell_type": "markdown",
   "id": "87aaa1dc",
   "metadata": {},
   "source": [
    "#### Review the results\n",
    "\n",
    "review the areaUnderPR (Area Under Precision Recall curve) and areaUnderROC(Area Under Receiver Operating Characteristic) or AUC (Area Under Curve) metrics."
   ]
  },
  {
   "cell_type": "code",
   "execution_count": null,
   "id": "c97b650f",
   "metadata": {},
   "outputs": [],
   "source": [
    "# Build the best model (training and test datasets)\n",
    "train_pred = cvModel_u.transform(train)\n",
    "test_pred = cvModel_u.transform(test)\n",
    "\n",
    "#Evaluate the model on training datasets\n",
    "pr_train = evaluatorPR.evaluate(train_pred)\n",
    "auc_train = evaluatorAUC.evaluate(train_pred)\n",
    "\n",
    "#Evaluate the model on test datasets\n",
    "pr_test = evaluatorPR.evaluate(test_pred)\n",
    "auc_test = evaluatorAUC.evaluate(test_pred)\n",
    "\n",
    "#show the results\n",
    "print(\"PR train:\", pr_train)\n",
    "print(\"AUC train:\", auc_train)\n",
    "print(\"PR test:\", pr_test)\n",
    "print(\"AUC test:\", auc_test)\n",
    "###"
   ]
  },
  {
   "cell_type": "markdown",
   "id": "ddce861d",
   "metadata": {},
   "source": [
    "#### Confusion Matrix Code-base\n",
    "Subsequent cells will be using the following code to plot the confusion Matrix."
   ]
  },
  {
   "cell_type": "code",
   "execution_count": null,
   "id": "b39f788e",
   "metadata": {},
   "outputs": [],
   "source": [
    "#Create confusion matrix template\n",
    "from pyspark.sql.functions import lit, expr, col, column\n",
    "\n",
    "#confusion matrix template\n",
    "cmt = spark.createDataFrame([(1,0), (0,0), (1,1), (0,1)], [\"isFraud\", \"prediction\"])\n",
    "cmt.createOrReplaceTempView(\"cmt\")"
   ]
  },
  {
   "cell_type": "code",
   "execution_count": null,
   "id": "124641dd",
   "metadata": {},
   "outputs": [],
   "source": [
    "#create temp view for test prediction\n",
    "test_pred.createOrReplaceTempView(\"test_pred\")\n",
    "\n",
    "test_pred_cmdf = spark.sql(\\\n",
    "                \"select a.isFraud, a.prediction, coalesce(b.count, 0) as count from cmt a left outer join\\\n",
    "                (select isFraud, prediction, count(1) as count from test_pred group by isFraud, prediction) b\\\n",
    "                on b.isFraud = a.isFraud and b.prediction = a.prediction order by a.isFraud desc, a.prediction desc\")"
   ]
  },
  {
   "cell_type": "code",
   "execution_count": null,
   "id": "a4ca0718",
   "metadata": {},
   "outputs": [],
   "source": [
    "test_pred_cmdf.collect()"
   ]
  },
  {
   "cell_type": "code",
   "execution_count": null,
   "id": "02b9a99e",
   "metadata": {},
   "outputs": [],
   "source": [
    "###visualization confusion matrix\n",
    "### https://runawayhorse001.github.io/LearningApacheSpark/classification.html#decision-tree-classification\n",
    "import matplotlib.pyplot as plt\n",
    "import numpy as np\n",
    "import itertools\n",
    "\n",
    "def plot_confusion_matrix(cm, classes, normalize=False,title='Confusion matrix',cmap=plt.cm.Blues):\n",
    "    \"\"\"\n",
    "    This function prints and plots the confusion matrix.\n",
    "    Normalization by setting normalize=True.\n",
    "    \"\"\"\n",
    "    #clear plot\n",
    "    plt.gcf().clear()\n",
    "    if normalize:\n",
    "        cm = cm.astype('float')/cm.sum(axis=1)[:, np.newaxis]\n",
    "        print(\"Normalized confusion matrix\")\n",
    "    else:\n",
    "        print('Confusion matrix, without normalization')\n",
    "        \n",
    "    print(cm)\n",
    "    \n",
    "    plt.imshow(cm, interpolation='nearest', cmap=cmap)\n",
    "    plt.title(title)\n",
    "    plt.colorbar()\n",
    "    tick_marks = np.arange(len(classes))\n",
    "    plt.xticks(tick_marks, classes, rotation=45)\n",
    "    plt.yticks(tick_marks, classes)\n",
    "    \n",
    "    fmt = '.2f' if normalize else 'd'\n",
    "    thresh = cm.max() / 2.\n",
    "    for i, j in itertools.product(range(cm.shape[0]), range(cm.shape[1])):\n",
    "        plt.text(j, i, format(cm[i, j], fmt),\n",
    "        horizontalalignment='center',\n",
    "        color='white' if cm[i,j] > thresh else \"black\")\n",
    "        \n",
    "    plt.tight_layout()\n",
    "    plt.ylabel('True label')\n",
    "    plt.xlabel('predicted label')"
   ]
  },
  {
   "cell_type": "code",
   "execution_count": null,
   "id": "d09de5db",
   "metadata": {},
   "outputs": [],
   "source": [
    "#search, maping labels\n",
    "class_temp = test_pred.select('isFraud').groupBy('isFraud')\n",
    "class_temp = class_temp.count().sort('count', ascending=False).toPandas()\n",
    "class_temp = class_temp['isFraud'].values.tolist()\n",
    "class_names = list(np.where(np.array(class_temp)==0,'No Fraud', 'Fraud'))"
   ]
  },
  {
   "cell_type": "code",
   "execution_count": null,
   "id": "43bb94dd",
   "metadata": {},
   "outputs": [],
   "source": [
    "class_temp, class_names"
   ]
  },
  {
   "cell_type": "code",
   "execution_count": null,
   "id": "7ae23002",
   "metadata": {},
   "outputs": [],
   "source": [
    "from sklearn.metrics import confusion_matrix\n",
    "#true values\n",
    "y_true = test_pred.select('isFraud')\n",
    "y_true = y_true.toPandas()\n",
    "#change 0, 1 to No Fraud and Fraud\n",
    "y_true['isFraud'] = np.where(y_true['isFraud']==0, 'No Fraud', 'Fraud')\n",
    "\n",
    "df_based_rules['flagged_label'] = np.where(df_based_rules['label']==1, 'fraud', 'normal')\n",
    "#predicted values\n",
    "y_pred = test_pred.select('prediction')\n",
    "y_pred = y_pred.toPandas()\n",
    "#change 0, 1 to No Fraud and Fraud\n",
    "y_pred['prediction'] = np.where(y_pred['prediction']==0, 'No Fraud', 'Fraud')"
   ]
  },
  {
   "cell_type": "code",
   "execution_count": null,
   "id": "077dd776",
   "metadata": {},
   "outputs": [],
   "source": [
    "cnf_matrix = confusion_matrix(y_true, y_pred, labels=class_names)\n",
    "cnf_matrix"
   ]
  },
  {
   "cell_type": "code",
   "execution_count": null,
   "id": "b72b7f7c",
   "metadata": {},
   "outputs": [],
   "source": [
    "#plot non_normalize confusion matrix\n",
    "plt.figure()\n",
    "plot_confusion_matrix(cnf_matrix, classes=class_names, title='Confusion matrix, without normalization')\n",
    "plt.show()"
   ]
  },
  {
   "cell_type": "code",
   "execution_count": null,
   "id": "b7f72eab",
   "metadata": {},
   "outputs": [],
   "source": [
    "#Log MLflow\n",
    "with mlflow.start_run(experiment_id=experiment_id) as run: #experiment_id is str type\n",
    "    #Log parameters and metrics\n",
    "    mlflow.log_param(\"balanced\", \"no\")\n",
    "    mlflow.log_metric(\"PR train\", pr_train)\n",
    "    mlflow.log_metric(\"AUC train\", auc_train)\n",
    "    mlflow.log_metric(\"PR test\", pr_test)\n",
    "    mlflow.log_metric(\"AUC test\", auc_test)\n",
    "    \n",
    "    #Log model\n",
    "    mlflow.spark.log_model(dt_model, 'model')\n",
    "    \n",
    "    #log confusion matrix\n",
    "    mlflow.log_artifact(\"confusion-matrix.png\")"
   ]
  },
  {
   "cell_type": "markdown",
   "id": "0d06559f",
   "metadata": {},
   "source": [
    "### Model with Balanced Classes\n",
    "Let's see if we can improve our decision tree model but balancing the Fraud vs. No Fraud cases. We will tune the model using the metrics areaUnderROC or (AUC)"
   ]
  },
  {
   "cell_type": "code",
   "execution_count": null,
   "id": "77dd0867",
   "metadata": {},
   "outputs": [],
   "source": [
    "# Reset the DataFrames for no fraud ('dfn') and fraud (dfy)\n",
    "dfn = train.filter(train.isFraud == 0)\n",
    "dfy = train.filter(train.isFraud == 1)\n",
    "\n",
    "#Calculate summary metrics\n",
    "N = train.count()\n",
    "y = dfy.count()\n",
    "p = y/N\n",
    "\n",
    "# Create a more balanced training dataset\n",
    "train_b = dfn.sample(False, p, seed = 92285).union(dfy)\n",
    "\n",
    "#show the metrics\n",
    "print(\"Total count: %s, Fraud cases count: %s, Proportion of fraud cases: %s\" %(N, y, p))\n",
    "print(\"Balanced training dataset count: %s\" %train_b.count())"
   ]
  },
  {
   "cell_type": "code",
   "execution_count": null,
   "id": "43ae9046",
   "metadata": {},
   "outputs": [],
   "source": [
    "#Display our balanced training dataset\n",
    "display(train_b.groupBy(\"isFraud\").count().show())"
   ]
  },
  {
   "cell_type": "markdown",
   "id": "021c9e2d",
   "metadata": {},
   "source": [
    "THe training dataset has shrunk to 13,203 obvervations, this is too small, but lets see if the result is better?"
   ]
  },
  {
   "cell_type": "markdown",
   "id": "30470640",
   "metadata": {},
   "source": [
    "#### Update ML pipeline\n",
    "We had created the ML pipeline stages above, we will re-use them to to train on balanced train dataset, we will use evaluatorAUC as our evaluator, this is often better for balanced dataset"
   ]
  },
  {
   "cell_type": "code",
   "execution_count": null,
   "id": "324e50e8",
   "metadata": {},
   "outputs": [],
   "source": [
    "#Re-run the same ML pipeline (including params grid)\n",
    "crossval_b = CrossValidator(estimator=dt,\n",
    "                           estimatorParamMaps= paramGird,\n",
    "                           evaluator=evaluatorAUC,\n",
    "                           numFolds=3)\n",
    "\n",
    "pipelineCV_b = Pipeline(stages=[indexer, va, crossval_b])\n",
    "\n",
    "#Train the model using the pipeline, parameter grid, and BinaryClassificationEvaluator using the 'train_b' dataset\n",
    "cvModel_b = pipelineCV_b.fit(train_b)"
   ]
  },
  {
   "cell_type": "code",
   "execution_count": null,
   "id": "34a00c2b",
   "metadata": {},
   "outputs": [],
   "source": [
    "#Use the best model to predict\n",
    "train_pred_b = cvModel_b.transform(train_b)\n",
    "test_pred_b = cvModel_b.transform(test)\n",
    "\n",
    "#Evaluate the model on the balanced training datasets\n",
    "pr_train_b = evaluatorPR.evaluate(train_pred_b)\n",
    "auc_train_b = evaluatorAUC.evaluate(train_pred_b)\n",
    "\n",
    "#Evaluate the model on full test datasets\n",
    "pr_test_b = evaluatorPR.evaluate(test_pred_b)\n",
    "auc_test_b = evaluatorAUC.evaluate(test_pred_b)\n",
    "\n",
    "###\n",
    "print(\"PR train:\", pr_train_b)\n",
    "print(\"AUC train:\", auc_train_b)\n",
    "print(\"PR test:\", pr_test_b)\n",
    "print(\"AUC test:\", auc_test_b)"
   ]
  },
  {
   "cell_type": "markdown",
   "id": "efca889f",
   "metadata": {},
   "source": [
    "the AUC has improved in both training and testing datasets, we will see if our Decision Tree model makes a better decision on Confusion Matrix. The PR in test dataset is low, cause we trained our model in balanced dataset and made decision on imbalanced test dataset. PR may only be useful in case our dataset is imbalanced"
   ]
  },
  {
   "cell_type": "code",
   "execution_count": null,
   "id": "22359dd1",
   "metadata": {},
   "outputs": [],
   "source": [
    "#create temp view for test predictions\n",
    "test_pred_b.createOrReplaceTempView(\"test_pred_b\")\n",
    "\n",
    "#create test predictions confusion matrix\n",
    "test_pred_b_cmdf = spark.sql(\"select a.isFraud, \\\n",
    "                                     a.prediction, \\\n",
    "                                     coalesce(b.count, 0) as count \\\n",
    "                                from cmt a left outer join \\\n",
    "                                (select isFraud, \\\n",
    "                                        prediction, \\\n",
    "                                        count(1) as count \\\n",
    "                                from test_pred_b group by isFraud, prediction) b \\\n",
    "                                on b.isFraud = a.isFraud and b.prediction = a.prediction \\\n",
    "                                order by a.isFraud desc, a.prediction desc\")\n",
    "\n",
    "##view confusion matrix\n",
    "test_pred_b_cmdf.show()"
   ]
  },
  {
   "cell_type": "markdown",
   "id": "6a8c69ad",
   "metadata": {},
   "source": [
    "#### Extra step\n",
    "Showing the Feature Importance from our dt_model, trained on imbalanced training dataset"
   ]
  },
  {
   "cell_type": "code",
   "execution_count": null,
   "id": "4967edbe",
   "metadata": {},
   "outputs": [],
   "source": [
    "# Extract Feature Importance\n",
    "#  Attribution: Feature Selection Using Feature Importance Score - Creating a PySpark Estimator\n",
    "#               https://www.timlrx.com/2018/06/19/feature-selection-using-feature-importance-score-creating-a-pyspark-estimator/\n",
    "import pandas as pd\n",
    "\n",
    "def ExtractFeatureImp(featureImp, dataset, featuresCol):\n",
    "    list_extract = []\n",
    "    for i in dataset.schema[featuresCol].metadata[\"ml_attr\"][\"attrs\"]:\n",
    "        list_extract = list_extract + dataset.schema[featuresCol].metadata[\"ml_attr\"][\"attrs\"][i]\n",
    "    varlist = pd.DataFrame(list_extract)\n",
    "    varlist['score'] = varlist['idx'].apply(lambda x: featureImp[x])\n",
    "    return (varlist.sort_values('score', ascending=False))"
   ]
  },
  {
   "cell_type": "code",
   "execution_count": null,
   "id": "ec206d61",
   "metadata": {},
   "outputs": [],
   "source": [
    "#Extract Feature Importance for the dt_model using imbalanced dataset\n",
    "ExtractFeatureImp(dt_model.stages[-1].featureImportances, train_pred, 'features')"
   ]
  },
  {
   "cell_type": "markdown",
   "id": "ccce53de",
   "metadata": {},
   "source": [
    "##### Display the Decision tree on balanced training"
   ]
  },
  {
   "cell_type": "code",
   "execution_count": null,
   "id": "67919b95",
   "metadata": {},
   "outputs": [],
   "source": [
    "#display the balanced Decision tree model\n",
    "dt_model_b = pipeline.fit(train_b)"
   ]
  },
  {
   "cell_type": "code",
   "execution_count": null,
   "id": "1c63ef5a",
   "metadata": {},
   "outputs": [],
   "source": [
    "print(dt_model_b.stages[-1].toDebugString)"
   ]
  },
  {
   "cell_type": "code",
   "execution_count": null,
   "id": "357e59c8",
   "metadata": {},
   "outputs": [],
   "source": [
    "#search, maping labels\n",
    "class_temp_b = test_pred_b.select('isFraud').groupBy('isFraud')\n",
    "class_temp_b = class_temp_b.count().sort('count', ascending=False).toPandas()\n",
    "class_temp_b = class_temp_b['isFraud'].values.tolist()\n",
    "class_names_b = list(np.where(np.array(class_temp_b)==0,'No Fraud', 'Fraud'))"
   ]
  },
  {
   "cell_type": "code",
   "execution_count": null,
   "id": "65755021",
   "metadata": {},
   "outputs": [],
   "source": [
    "class_temp_b, class_names_b"
   ]
  },
  {
   "cell_type": "code",
   "execution_count": null,
   "id": "bbb92929",
   "metadata": {},
   "outputs": [],
   "source": [
    "from sklearn.metrics import confusion_matrix\n",
    "#true values\n",
    "y_true_b = test_pred_b.select('isFraud')\n",
    "y_true_b = y_true_b.toPandas()\n",
    "#change 0, 1 to No Fraud and Fraud\n",
    "y_true_b['isFraud'] = np.where(y_true_b['isFraud']==0, 'No Fraud', 'Fraud')\n",
    "\n",
    "#df_based_rules['flagged_label'] = np.where(df_based_rules['label']==1, 'fraud', 'normal')\n",
    "#predicted values\n",
    "y_pred_b = test_pred_b.select('prediction')\n",
    "y_pred_b = y_pred_b.toPandas()\n",
    "#change 0, 1 to No Fraud and Fraud\n",
    "y_pred_b['prediction'] = np.where(y_pred_b['prediction']==0, 'No Fraud', 'Fraud')"
   ]
  },
  {
   "cell_type": "code",
   "execution_count": null,
   "id": "ae9ae808",
   "metadata": {},
   "outputs": [],
   "source": [
    "cnf_matrix_b = confusion_matrix(y_true_b, y_pred_b, labels=class_names_b)\n",
    "cnf_matrix_b"
   ]
  },
  {
   "cell_type": "code",
   "execution_count": null,
   "id": "5949fef7",
   "metadata": {},
   "outputs": [],
   "source": [
    "#plot non_normalize confusion matrix\n",
    "plt.figure()\n",
    "plot_confusion_matrix(cnf_matrix, classes=class_names, title='Confusion matrix, Imbalanced training dataset')\n",
    "plt.show()"
   ]
  },
  {
   "cell_type": "code",
   "execution_count": null,
   "id": "4fd32da6",
   "metadata": {},
   "outputs": [],
   "source": [
    "#plot non_normalize confusion matrix with balanced training dataset\n",
    "plt.figure()\n",
    "plot_confusion_matrix(cnf_matrix_b, classes=class_names_b, title='Confusion matrix, without normalization')\n",
    "plt.show()"
   ]
  },
  {
   "cell_type": "markdown",
   "id": "45656ed2",
   "metadata": {},
   "source": [
    "* The DT model trained on balanced dataset, make better decision on Fraud, and poor decision on No Fraud, because we deleted No Fraud data on training dataset to make our training dataset balanced.\n",
    "\n",
    "* We can use SQL where clause to identify more Fraud on our original dataset based on suspicously fraud transactions, that will increase our Fraud data in our data, also increase trainng dataset.\n",
    "\n",
    "In reality, we may have more data to train our model, and will make it better "
   ]
  },
  {
   "cell_type": "markdown",
   "id": "24f9c887",
   "metadata": {},
   "source": [
    "#### Log MLflow"
   ]
  },
  {
   "cell_type": "code",
   "execution_count": null,
   "id": "9db5eaac",
   "metadata": {},
   "outputs": [],
   "source": [
    "with mlflow.start_run(experiment_id=experiment_id) as run:\n",
    "    #Log paramters and metrics\n",
    "    mlflow.log_param('balanced', 'yes')\n",
    "    mlflow.log_metric('PR train', pr_train_b)\n",
    "    mlflow.log_metric('AUC train', auc_train_b)\n",
    "    mlflow.log_metric('PR test', pr_test_b)\n",
    "    mlflow.log_metric('AUC test', auc_test_b)\n",
    "    \n",
    "    #Log model\n",
    "    mlflow.spark.log_model(dt_model_b, 'model')\n",
    "    \n",
    "    #Log confusion matrix\n",
    "    mlflow.log_artifact('confusion-matrix.png')"
   ]
  },
  {
   "cell_type": "markdown",
   "id": "b4c46b2f",
   "metadata": {},
   "source": [
    "### Comparition"
   ]
  },
  {
   "cell_type": "code",
   "execution_count": null,
   "id": "63dbff3b",
   "metadata": {},
   "outputs": [],
   "source": [
    "###\n",
    "pd.DataFrame({'Imbalanced': [pr_train, auc_train, pr_test, auc_test],\n",
    "              'Balanced': [pr_train_b, auc_train_b, pr_test_b, auc_test_b],\n",
    "             'Metric/dataset': [\"PR train\", \"AUC train\",\"PR test\",\"AUC test\"]}).set_index('Metric/dataset')"
   ]
  },
  {
   "cell_type": "code",
   "execution_count": null,
   "id": "cd879c24",
   "metadata": {},
   "outputs": [],
   "source": []
  }
 ],
 "metadata": {
  "celltoolbar": "Raw Cell Format",
  "kernelspec": {
   "display_name": "Python 3.8 (tensorflow)",
   "language": "python",
   "name": "lighthouse"
  },
  "language_info": {
   "codemirror_mode": {
    "name": "ipython",
    "version": 3
   },
   "file_extension": ".py",
   "mimetype": "text/x-python",
   "name": "python",
   "nbconvert_exporter": "python",
   "pygments_lexer": "ipython3",
   "version": "3.9.13"
  }
 },
 "nbformat": 4,
 "nbformat_minor": 5
}
