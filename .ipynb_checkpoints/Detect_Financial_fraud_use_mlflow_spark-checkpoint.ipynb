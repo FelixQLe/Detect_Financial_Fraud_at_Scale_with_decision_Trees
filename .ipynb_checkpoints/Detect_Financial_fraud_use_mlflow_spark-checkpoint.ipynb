{
 "cells": [
  {
   "cell_type": "markdown",
   "id": "91d261b9",
   "metadata": {},
   "source": [
    "#### Heap size error\n",
    "- run this command line before run notebook\n",
    "\n",
    "export PYSPARK_SUBMIT_ARGS='--driver-maxResultsSize 16g --driver-memory 16g --executor-memory 16g pyspark-shell'"
   ]
  },
  {
   "cell_type": "code",
   "execution_count": 1,
   "id": "c4f7bae8",
   "metadata": {},
   "outputs": [
    {
     "name": "stdout",
     "output_type": "stream",
     "text": [
      "MLflow Version: 2.1.1\n"
     ]
    }
   ],
   "source": [
    "# Configure MLflow Experiment\n",
    "mlflow_experiment_id = 866112\n",
    "\n",
    "# Including MLflow\n",
    "import mlflow\n",
    "import mlflow.spark\n",
    "import os\n",
    "print(\"MLflow Version: %s\" % mlflow.__version__)"
   ]
  },
  {
   "cell_type": "code",
   "execution_count": 2,
   "id": "6a2a0c72",
   "metadata": {},
   "outputs": [],
   "source": [
    "import pandas as pd\n",
    "import numpy as np"
   ]
  },
  {
   "cell_type": "markdown",
   "id": "15c065cb",
   "metadata": {},
   "source": [
    "### Source Data"
   ]
  },
  {
   "cell_type": "code",
   "execution_count": 3,
   "id": "53004d59",
   "metadata": {},
   "outputs": [],
   "source": [
    "#Data set is synthetic dataset is scaled down 1/4 of the original dataset and it is created just for Kaggle\n",
    "data_urls = \"https://media.githubusercontent.com/media/FelixQLe/Detect_Financial_Fraud_at_Scale_with_decision_Trees/main/Synthetic_Financial_datasets_log.csv\""
   ]
  },
  {
   "cell_type": "code",
   "execution_count": 4,
   "id": "6160af0c",
   "metadata": {},
   "outputs": [],
   "source": [
    "fin_fraud_dataset = pd.read_csv(data_urls, delimiter=',', header = 0)"
   ]
  },
  {
   "cell_type": "code",
   "execution_count": 5,
   "id": "eeeb9052",
   "metadata": {},
   "outputs": [],
   "source": [
    "#large dataset takes longer to load, so i make a copy to reuse in case\n",
    "fin_fraud_copy = fin_fraud_dataset.copy()"
   ]
  },
  {
   "cell_type": "code",
   "execution_count": 6,
   "id": "37ecd5f1",
   "metadata": {},
   "outputs": [
    {
     "data": {
      "text/plain": [
       "(6362620, 11)"
      ]
     },
     "execution_count": 6,
     "metadata": {},
     "output_type": "execute_result"
    }
   ],
   "source": [
    "fin_fraud_copy.shape"
   ]
  },
  {
   "cell_type": "markdown",
   "id": "25e50157",
   "metadata": {},
   "source": [
    "### Create SQL database using PySpark"
   ]
  },
  {
   "cell_type": "code",
   "execution_count": 7,
   "id": "cb3b5756",
   "metadata": {},
   "outputs": [
    {
     "name": "stdout",
     "output_type": "stream",
     "text": [
      "PySpark Version : 3.3.0\n"
     ]
    }
   ],
   "source": [
    "#import pyspark\n",
    "import pyspark\n",
    "from pyspark import SparkContext, SparkConf\n",
    "from pyspark.sql import SparkSession, SQLContext\n",
    "print(f\"PySpark Version : {pyspark.__version__}\")"
   ]
  },
  {
   "cell_type": "code",
   "execution_count": 8,
   "id": "a6872f38",
   "metadata": {},
   "outputs": [
    {
     "name": "stderr",
     "output_type": "stream",
     "text": [
      "Setting default log level to \"WARN\".\n",
      "To adjust logging level use sc.setLogLevel(newLevel). For SparkR, use setLogLevel(newLevel).\n"
     ]
    },
    {
     "name": "stdout",
     "output_type": "stream",
     "text": [
      "23/02/05 21:11:38 WARN NativeCodeLoader: Unable to load native-hadoop library for your platform... using builtin-java classes where applicable\n"
     ]
    }
   ],
   "source": [
    "#Create a spark Context class\n",
    "#sc = SparkContext.getOrCreate(SparkConf().setMaster('local[*]'))\n",
    "# Create spark builder session\n",
    "#Create a spark Context class\n",
    "sc = SparkContext()"
   ]
  },
  {
   "cell_type": "code",
   "execution_count": 9,
   "id": "9e93c49c",
   "metadata": {},
   "outputs": [],
   "source": [
    "## Create spark session\n",
    "spark = SparkSession.builder.master('local[6]').\\\n",
    "                config('saprk.sql.shuffle.partitions', 200).\\\n",
    "                config('spark.sql.debug.maxToStringFields', '100').\\\n",
    "                config('spark.default.parallelism', 300).\\\n",
    "                appName(\"Python Spark Dataframes Financial Fruad\").getOrCreate()"
   ]
  },
  {
   "cell_type": "code",
   "execution_count": 10,
   "id": "35142082",
   "metadata": {},
   "outputs": [
    {
     "data": {
      "text/html": [
       "<div>\n",
       "<style scoped>\n",
       "    .dataframe tbody tr th:only-of-type {\n",
       "        vertical-align: middle;\n",
       "    }\n",
       "\n",
       "    .dataframe tbody tr th {\n",
       "        vertical-align: top;\n",
       "    }\n",
       "\n",
       "    .dataframe thead th {\n",
       "        text-align: right;\n",
       "    }\n",
       "</style>\n",
       "<table border=\"1\" class=\"dataframe\">\n",
       "  <thead>\n",
       "    <tr style=\"text-align: right;\">\n",
       "      <th></th>\n",
       "      <th>step</th>\n",
       "      <th>type</th>\n",
       "      <th>amount</th>\n",
       "      <th>nameOrig</th>\n",
       "      <th>oldbalanceOrg</th>\n",
       "      <th>newbalanceOrig</th>\n",
       "      <th>nameDest</th>\n",
       "      <th>oldbalanceDest</th>\n",
       "      <th>newbalanceDest</th>\n",
       "      <th>isFraud</th>\n",
       "      <th>isFlaggedFraud</th>\n",
       "    </tr>\n",
       "  </thead>\n",
       "  <tbody>\n",
       "    <tr>\n",
       "      <th>0</th>\n",
       "      <td>1</td>\n",
       "      <td>PAYMENT</td>\n",
       "      <td>9839.64</td>\n",
       "      <td>C1231006815</td>\n",
       "      <td>170136.0</td>\n",
       "      <td>160296.36</td>\n",
       "      <td>M1979787155</td>\n",
       "      <td>0.0</td>\n",
       "      <td>0.0</td>\n",
       "      <td>0</td>\n",
       "      <td>0</td>\n",
       "    </tr>\n",
       "    <tr>\n",
       "      <th>1</th>\n",
       "      <td>1</td>\n",
       "      <td>PAYMENT</td>\n",
       "      <td>1864.28</td>\n",
       "      <td>C1666544295</td>\n",
       "      <td>21249.0</td>\n",
       "      <td>19384.72</td>\n",
       "      <td>M2044282225</td>\n",
       "      <td>0.0</td>\n",
       "      <td>0.0</td>\n",
       "      <td>0</td>\n",
       "      <td>0</td>\n",
       "    </tr>\n",
       "    <tr>\n",
       "      <th>2</th>\n",
       "      <td>1</td>\n",
       "      <td>TRANSFER</td>\n",
       "      <td>181.00</td>\n",
       "      <td>C1305486145</td>\n",
       "      <td>181.0</td>\n",
       "      <td>0.00</td>\n",
       "      <td>C553264065</td>\n",
       "      <td>0.0</td>\n",
       "      <td>0.0</td>\n",
       "      <td>1</td>\n",
       "      <td>0</td>\n",
       "    </tr>\n",
       "    <tr>\n",
       "      <th>3</th>\n",
       "      <td>1</td>\n",
       "      <td>CASH_OUT</td>\n",
       "      <td>181.00</td>\n",
       "      <td>C840083671</td>\n",
       "      <td>181.0</td>\n",
       "      <td>0.00</td>\n",
       "      <td>C38997010</td>\n",
       "      <td>21182.0</td>\n",
       "      <td>0.0</td>\n",
       "      <td>1</td>\n",
       "      <td>0</td>\n",
       "    </tr>\n",
       "    <tr>\n",
       "      <th>4</th>\n",
       "      <td>1</td>\n",
       "      <td>PAYMENT</td>\n",
       "      <td>11668.14</td>\n",
       "      <td>C2048537720</td>\n",
       "      <td>41554.0</td>\n",
       "      <td>29885.86</td>\n",
       "      <td>M1230701703</td>\n",
       "      <td>0.0</td>\n",
       "      <td>0.0</td>\n",
       "      <td>0</td>\n",
       "      <td>0</td>\n",
       "    </tr>\n",
       "  </tbody>\n",
       "</table>\n",
       "</div>"
      ],
      "text/plain": [
       "   step      type    amount     nameOrig  oldbalanceOrg  newbalanceOrig  \\\n",
       "0     1   PAYMENT   9839.64  C1231006815       170136.0       160296.36   \n",
       "1     1   PAYMENT   1864.28  C1666544295        21249.0        19384.72   \n",
       "2     1  TRANSFER    181.00  C1305486145          181.0            0.00   \n",
       "3     1  CASH_OUT    181.00   C840083671          181.0            0.00   \n",
       "4     1   PAYMENT  11668.14  C2048537720        41554.0        29885.86   \n",
       "\n",
       "      nameDest  oldbalanceDest  newbalanceDest  isFraud  isFlaggedFraud  \n",
       "0  M1979787155             0.0             0.0        0               0  \n",
       "1  M2044282225             0.0             0.0        0               0  \n",
       "2   C553264065             0.0             0.0        1               0  \n",
       "3    C38997010         21182.0             0.0        1               0  \n",
       "4  M1230701703             0.0             0.0        0               0  "
      ]
     },
     "execution_count": 10,
     "metadata": {},
     "output_type": "execute_result"
    }
   ],
   "source": [
    "fin_fraud_copy.head(5)"
   ]
  },
  {
   "cell_type": "code",
   "execution_count": 11,
   "id": "25da981b",
   "metadata": {},
   "outputs": [],
   "source": [
    "#Loading data into Spark, take long\n",
    "spark_df = spark.createDataFrame(fin_fraud_copy)"
   ]
  },
  {
   "cell_type": "code",
   "execution_count": 12,
   "id": "01890611",
   "metadata": {},
   "outputs": [
    {
     "name": "stdout",
     "output_type": "stream",
     "text": [
      "root\n",
      " |-- step: long (nullable = true)\n",
      " |-- type: string (nullable = true)\n",
      " |-- amount: double (nullable = true)\n",
      " |-- nameOrig: string (nullable = true)\n",
      " |-- oldbalanceOrg: double (nullable = true)\n",
      " |-- newbalanceOrig: double (nullable = true)\n",
      " |-- nameDest: string (nullable = true)\n",
      " |-- oldbalanceDest: double (nullable = true)\n",
      " |-- newbalanceDest: double (nullable = true)\n",
      " |-- isFraud: long (nullable = true)\n",
      " |-- isFlaggedFraud: long (nullable = true)\n",
      "\n"
     ]
    }
   ],
   "source": [
    "spark_df.printSchema()"
   ]
  },
  {
   "cell_type": "code",
   "execution_count": 13,
   "id": "33f65ea3",
   "metadata": {},
   "outputs": [
    {
     "name": "stdout",
     "output_type": "stream",
     "text": [
      "23/02/05 21:16:24 WARN TaskSetManager: Stage 0 contains a task of very large size (64404 KiB). The maximum recommended task size is 1000 KiB.\n"
     ]
    },
    {
     "name": "stderr",
     "output_type": "stream",
     "text": [
      "\r",
      "[Stage 0:>                                                          (0 + 0) / 1]\r",
      "\r",
      "[Stage 0:>                                                          (0 + 1) / 1]\r"
     ]
    },
    {
     "name": "stdout",
     "output_type": "stream",
     "text": [
      "23/02/05 21:16:29 WARN PythonRunner: Detected deadlock while completing task 0.0 in stage 0 (TID 0): Attempting to kill Python Worker\n",
      "+----+--------+---------+-----------+-------------+--------------+-----------+--------------+--------------+-------+--------------+\n",
      "|step|    type|   amount|   nameOrig|oldbalanceOrg|newbalanceOrig|   nameDest|oldbalanceDest|newbalanceDest|isFraud|isFlaggedFraud|\n",
      "+----+--------+---------+-----------+-------------+--------------+-----------+--------------+--------------+-------+--------------+\n",
      "|   1| PAYMENT|  9839.64|C1231006815|     170136.0|     160296.36|M1979787155|           0.0|           0.0|      0|             0|\n",
      "|   1| PAYMENT|  1864.28|C1666544295|      21249.0|      19384.72|M2044282225|           0.0|           0.0|      0|             0|\n",
      "|   1|TRANSFER|    181.0|C1305486145|        181.0|           0.0| C553264065|           0.0|           0.0|      1|             0|\n",
      "|   1|CASH_OUT|    181.0| C840083671|        181.0|           0.0|  C38997010|       21182.0|           0.0|      1|             0|\n",
      "|   1| PAYMENT| 11668.14|C2048537720|      41554.0|      29885.86|M1230701703|           0.0|           0.0|      0|             0|\n",
      "|   1| PAYMENT|  7817.71|  C90045638|      53860.0|      46042.29| M573487274|           0.0|           0.0|      0|             0|\n",
      "|   1| PAYMENT|  7107.77| C154988899|     183195.0|     176087.23| M408069119|           0.0|           0.0|      0|             0|\n",
      "|   1| PAYMENT|  7861.64|C1912850431|    176087.23|     168225.59| M633326333|           0.0|           0.0|      0|             0|\n",
      "|   1| PAYMENT|  4024.36|C1265012928|       2671.0|           0.0|M1176932104|           0.0|           0.0|      0|             0|\n",
      "|   1|   DEBIT|  5337.77| C712410124|      41720.0|      36382.23| C195600860|       41898.0|      40348.79|      0|             0|\n",
      "|   1|   DEBIT|  9644.94|C1900366749|       4465.0|           0.0| C997608398|       10845.0|     157982.12|      0|             0|\n",
      "|   1| PAYMENT|  3099.97| C249177573|      20771.0|      17671.03|M2096539129|           0.0|           0.0|      0|             0|\n",
      "|   1| PAYMENT|  2560.74|C1648232591|       5070.0|       2509.26| M972865270|           0.0|           0.0|      0|             0|\n",
      "|   1| PAYMENT| 11633.76|C1716932897|      10127.0|           0.0| M801569151|           0.0|           0.0|      0|             0|\n",
      "|   1| PAYMENT|  4098.78|C1026483832|     503264.0|     499165.22|M1635378213|           0.0|           0.0|      0|             0|\n",
      "|   1|CASH_OUT|229133.94| C905080434|      15325.0|           0.0| C476402209|        5083.0|      51513.44|      0|             0|\n",
      "|   1| PAYMENT|  1563.82| C761750706|        450.0|           0.0|M1731217984|           0.0|           0.0|      0|             0|\n",
      "|   1| PAYMENT|  1157.86|C1237762639|      21156.0|      19998.14|M1877062907|           0.0|           0.0|      0|             0|\n",
      "|   1| PAYMENT|   671.64|C2033524545|      15123.0|      14451.36| M473053293|           0.0|           0.0|      0|             0|\n",
      "|   1|TRANSFER| 215310.3|C1670993182|        705.0|           0.0|C1100439041|       22425.0|           0.0|      0|             0|\n",
      "+----+--------+---------+-----------+-------------+--------------+-----------+--------------+--------------+-------+--------------+\n",
      "only showing top 20 rows\n",
      "\n"
     ]
    },
    {
     "name": "stderr",
     "output_type": "stream",
     "text": [
      "\r",
      "                                                                                \r"
     ]
    }
   ],
   "source": [
    "spark_df.show()"
   ]
  },
  {
   "cell_type": "code",
   "execution_count": 14,
   "id": "cd6e62a8",
   "metadata": {},
   "outputs": [],
   "source": [
    "#create table view fin_fraud_table, we can treat it as sql table\n",
    "spark_df.createTempView(\"fin_fraud_table\")"
   ]
  },
  {
   "cell_type": "code",
   "execution_count": 35,
   "id": "18a49389",
   "metadata": {},
   "outputs": [],
   "source": [
    "# Create df DataFrame which contains our simulated financial fraud detection dataset\n",
    "original_fin_fraud_df = spark.sql(\"select step, type, amount, nameOrig, oldbalanceOrg, newbalanceOrig, nameDest, oldbalanceDest, newbalanceDest from fin_fraud_table\")"
   ]
  },
  {
   "cell_type": "code",
   "execution_count": 36,
   "id": "05b0d0df",
   "metadata": {},
   "outputs": [
    {
     "name": "stdout",
     "output_type": "stream",
     "text": [
      "root\n",
      " |-- step: long (nullable = true)\n",
      " |-- type: string (nullable = true)\n",
      " |-- amount: double (nullable = true)\n",
      " |-- nameOrig: string (nullable = true)\n",
      " |-- oldbalanceOrg: double (nullable = true)\n",
      " |-- newbalanceOrig: double (nullable = true)\n",
      " |-- nameDest: string (nullable = true)\n",
      " |-- oldbalanceDest: double (nullable = true)\n",
      " |-- newbalanceDest: double (nullable = true)\n",
      "\n"
     ]
    }
   ],
   "source": [
    "original_fin_fraud_df.printSchema()"
   ]
  },
  {
   "cell_type": "code",
   "execution_count": 37,
   "id": "ad980613",
   "metadata": {},
   "outputs": [
    {
     "name": "stdout",
     "output_type": "stream",
     "text": [
      "23/02/05 21:30:30 WARN TaskSetManager: Stage 15 contains a task of very large size (64404 KiB). The maximum recommended task size is 1000 KiB.\n"
     ]
    },
    {
     "name": "stderr",
     "output_type": "stream",
     "text": [
      "\r",
      "[Stage 15:>                                                         (0 + 1) / 1]\r"
     ]
    },
    {
     "name": "stdout",
     "output_type": "stream",
     "text": [
      "23/02/05 21:30:34 WARN PythonRunner: Detected deadlock while completing task 0.0 in stage 15 (TID 39): Attempting to kill Python Worker\n",
      "+----+--------+---------+-----------+-------------+--------------+-----------+--------------+--------------+\n",
      "|step|    type|   amount|   nameOrig|oldbalanceOrg|newbalanceOrig|   nameDest|oldbalanceDest|newbalanceDest|\n",
      "+----+--------+---------+-----------+-------------+--------------+-----------+--------------+--------------+\n",
      "|   1| PAYMENT|  9839.64|C1231006815|     170136.0|     160296.36|M1979787155|           0.0|           0.0|\n",
      "|   1| PAYMENT|  1864.28|C1666544295|      21249.0|      19384.72|M2044282225|           0.0|           0.0|\n",
      "|   1|TRANSFER|    181.0|C1305486145|        181.0|           0.0| C553264065|           0.0|           0.0|\n",
      "|   1|CASH_OUT|    181.0| C840083671|        181.0|           0.0|  C38997010|       21182.0|           0.0|\n",
      "|   1| PAYMENT| 11668.14|C2048537720|      41554.0|      29885.86|M1230701703|           0.0|           0.0|\n",
      "|   1| PAYMENT|  7817.71|  C90045638|      53860.0|      46042.29| M573487274|           0.0|           0.0|\n",
      "|   1| PAYMENT|  7107.77| C154988899|     183195.0|     176087.23| M408069119|           0.0|           0.0|\n",
      "|   1| PAYMENT|  7861.64|C1912850431|    176087.23|     168225.59| M633326333|           0.0|           0.0|\n",
      "|   1| PAYMENT|  4024.36|C1265012928|       2671.0|           0.0|M1176932104|           0.0|           0.0|\n",
      "|   1|   DEBIT|  5337.77| C712410124|      41720.0|      36382.23| C195600860|       41898.0|      40348.79|\n",
      "|   1|   DEBIT|  9644.94|C1900366749|       4465.0|           0.0| C997608398|       10845.0|     157982.12|\n",
      "|   1| PAYMENT|  3099.97| C249177573|      20771.0|      17671.03|M2096539129|           0.0|           0.0|\n",
      "|   1| PAYMENT|  2560.74|C1648232591|       5070.0|       2509.26| M972865270|           0.0|           0.0|\n",
      "|   1| PAYMENT| 11633.76|C1716932897|      10127.0|           0.0| M801569151|           0.0|           0.0|\n",
      "|   1| PAYMENT|  4098.78|C1026483832|     503264.0|     499165.22|M1635378213|           0.0|           0.0|\n",
      "|   1|CASH_OUT|229133.94| C905080434|      15325.0|           0.0| C476402209|        5083.0|      51513.44|\n",
      "|   1| PAYMENT|  1563.82| C761750706|        450.0|           0.0|M1731217984|           0.0|           0.0|\n",
      "|   1| PAYMENT|  1157.86|C1237762639|      21156.0|      19998.14|M1877062907|           0.0|           0.0|\n",
      "|   1| PAYMENT|   671.64|C2033524545|      15123.0|      14451.36| M473053293|           0.0|           0.0|\n",
      "|   1|TRANSFER| 215310.3|C1670993182|        705.0|           0.0|C1100439041|       22425.0|           0.0|\n",
      "+----+--------+---------+-----------+-------------+--------------+-----------+--------------+--------------+\n",
      "only showing top 20 rows\n",
      "\n"
     ]
    },
    {
     "name": "stderr",
     "output_type": "stream",
     "text": [
      "\r",
      "                                                                                \r"
     ]
    }
   ],
   "source": [
    "# Review the schema of your data \n",
    "original_fin_fraud_df.show()"
   ]
  },
  {
   "cell_type": "code",
   "execution_count": 38,
   "id": "5939f7db",
   "metadata": {},
   "outputs": [],
   "source": [
    "#add column orgDiff and destDiff based on the difference between Originating and Destination\n",
    "original_fin_fraud_df = original_fin_fraud_df.withColumn(\"orgDiff\",\n",
    "                            original_fin_fraud_df.newbalanceOrig - \n",
    "                                       original_fin_fraud_df.oldbalanceOrg).withColumn(\"destDiff\",\n",
    "                            original_fin_fraud_df.newbalanceDest - original_fin_fraud_df.oldbalanceDest)\n",
    "    \n",
    "#create temporary view\n",
    "original_fin_fraud_df.createOrReplaceTempView(\"financials\")"
   ]
  },
  {
   "cell_type": "code",
   "execution_count": 39,
   "id": "55a7d3b0",
   "metadata": {},
   "outputs": [
    {
     "name": "stdout",
     "output_type": "stream",
     "text": [
      "root\n",
      " |-- step: long (nullable = true)\n",
      " |-- type: string (nullable = true)\n",
      " |-- amount: double (nullable = true)\n",
      " |-- nameOrig: string (nullable = true)\n",
      " |-- oldbalanceOrg: double (nullable = true)\n",
      " |-- newbalanceOrig: double (nullable = true)\n",
      " |-- nameDest: string (nullable = true)\n",
      " |-- oldbalanceDest: double (nullable = true)\n",
      " |-- newbalanceDest: double (nullable = true)\n",
      " |-- orgDiff: double (nullable = true)\n",
      " |-- destDiff: double (nullable = true)\n",
      "\n"
     ]
    }
   ],
   "source": [
    "original_fin_fraud_df.printSchema()"
   ]
  },
  {
   "cell_type": "code",
   "execution_count": 40,
   "id": "ca81c38c",
   "metadata": {},
   "outputs": [
    {
     "name": "stdout",
     "output_type": "stream",
     "text": [
      "23/02/05 21:31:47 WARN TaskSetManager: Stage 16 contains a task of very large size (64404 KiB). The maximum recommended task size is 1000 KiB.\n"
     ]
    },
    {
     "name": "stderr",
     "output_type": "stream",
     "text": [
      "\r",
      "[Stage 16:>                                                         (0 + 1) / 1]\r"
     ]
    },
    {
     "name": "stdout",
     "output_type": "stream",
     "text": [
      "23/02/05 21:31:51 WARN PythonRunner: Detected deadlock while completing task 0.0 in stage 16 (TID 40): Attempting to kill Python Worker\n",
      "+----+--------+---------+-----------+-------------+--------------+-----------+--------------+--------------+-------------------+-------------------+\n",
      "|step|    type|   amount|   nameOrig|oldbalanceOrg|newbalanceOrig|   nameDest|oldbalanceDest|newbalanceDest|            orgDiff|           destDiff|\n",
      "+----+--------+---------+-----------+-------------+--------------+-----------+--------------+--------------+-------------------+-------------------+\n",
      "|   1| PAYMENT|  9839.64|C1231006815|     170136.0|     160296.36|M1979787155|           0.0|           0.0| -9839.640000000014|                0.0|\n",
      "|   1| PAYMENT|  1864.28|C1666544295|      21249.0|      19384.72|M2044282225|           0.0|           0.0|-1864.2799999999988|                0.0|\n",
      "|   1|TRANSFER|    181.0|C1305486145|        181.0|           0.0| C553264065|           0.0|           0.0|             -181.0|                0.0|\n",
      "|   1|CASH_OUT|    181.0| C840083671|        181.0|           0.0|  C38997010|       21182.0|           0.0|             -181.0|           -21182.0|\n",
      "|   1| PAYMENT| 11668.14|C2048537720|      41554.0|      29885.86|M1230701703|           0.0|           0.0|          -11668.14|                0.0|\n",
      "|   1| PAYMENT|  7817.71|  C90045638|      53860.0|      46042.29| M573487274|           0.0|           0.0| -7817.709999999999|                0.0|\n",
      "|   1| PAYMENT|  7107.77| C154988899|     183195.0|     176087.23| M408069119|           0.0|           0.0|-7107.7699999999895|                0.0|\n",
      "|   1| PAYMENT|  7861.64|C1912850431|    176087.23|     168225.59| M633326333|           0.0|           0.0| -7861.640000000014|                0.0|\n",
      "|   1| PAYMENT|  4024.36|C1265012928|       2671.0|           0.0|M1176932104|           0.0|           0.0|            -2671.0|                0.0|\n",
      "|   1|   DEBIT|  5337.77| C712410124|      41720.0|      36382.23| C195600860|       41898.0|      40348.79| -5337.769999999997|-1549.2099999999991|\n",
      "|   1|   DEBIT|  9644.94|C1900366749|       4465.0|           0.0| C997608398|       10845.0|     157982.12|            -4465.0|          147137.12|\n",
      "|   1| PAYMENT|  3099.97| C249177573|      20771.0|      17671.03|M2096539129|           0.0|           0.0| -3099.970000000001|                0.0|\n",
      "|   1| PAYMENT|  2560.74|C1648232591|       5070.0|       2509.26| M972865270|           0.0|           0.0|           -2560.74|                0.0|\n",
      "|   1| PAYMENT| 11633.76|C1716932897|      10127.0|           0.0| M801569151|           0.0|           0.0|           -10127.0|                0.0|\n",
      "|   1| PAYMENT|  4098.78|C1026483832|     503264.0|     499165.22|M1635378213|           0.0|           0.0| -4098.780000000028|                0.0|\n",
      "|   1|CASH_OUT|229133.94| C905080434|      15325.0|           0.0| C476402209|        5083.0|      51513.44|           -15325.0|           46430.44|\n",
      "|   1| PAYMENT|  1563.82| C761750706|        450.0|           0.0|M1731217984|           0.0|           0.0|             -450.0|                0.0|\n",
      "|   1| PAYMENT|  1157.86|C1237762639|      21156.0|      19998.14|M1877062907|           0.0|           0.0|-1157.8600000000006|                0.0|\n",
      "|   1| PAYMENT|   671.64|C2033524545|      15123.0|      14451.36| M473053293|           0.0|           0.0| -671.6399999999994|                0.0|\n",
      "|   1|TRANSFER| 215310.3|C1670993182|        705.0|           0.0|C1100439041|       22425.0|           0.0|             -705.0|           -22425.0|\n",
      "+----+--------+---------+-----------+-------------+--------------+-----------+--------------+--------------+-------------------+-------------------+\n",
      "only showing top 20 rows\n",
      "\n"
     ]
    },
    {
     "name": "stderr",
     "output_type": "stream",
     "text": [
      "\r",
      "                                                                                \r"
     ]
    }
   ],
   "source": [
    "#review the new table\n",
    "original_fin_fraud_df.show()"
   ]
  },
  {
   "cell_type": "markdown",
   "id": "715fd973",
   "metadata": {},
   "source": [
    "## Exploring Data Analysis"
   ]
  },
  {
   "cell_type": "markdown",
   "id": "f0badd8d",
   "metadata": {},
   "source": [
    "### What are the type of transactions?"
   ]
  },
  {
   "cell_type": "code",
   "execution_count": 41,
   "id": "e0c1ba16",
   "metadata": {},
   "outputs": [
    {
     "name": "stdout",
     "output_type": "stream",
     "text": [
      "The sparksql_magic extension is already loaded. To reload it, use:\n",
      "  %reload_ext sparksql_magic\n"
     ]
    }
   ],
   "source": [
    "%load_ext sparksql_magic"
   ]
  },
  {
   "cell_type": "markdown",
   "id": "b2fd0927",
   "metadata": {},
   "source": [
    "%config SparkSql.limit=20"
   ]
  },
  {
   "cell_type": "code",
   "execution_count": 22,
   "id": "52439c69",
   "metadata": {},
   "outputs": [
    {
     "name": "stdout",
     "output_type": "stream",
     "text": [
      "23/02/05 21:16:55 WARN TaskSetManager: Stage 3 contains a task of very large size (64404 KiB). The maximum recommended task size is 1000 KiB.\n"
     ]
    },
    {
     "name": "stderr",
     "output_type": "stream",
     "text": [
      "                                                                                \r"
     ]
    },
    {
     "data": {
      "text/html": [
       "<table><tr style=\"border-bottom: 1px solid\"><td style=\"font-weight: bold\">type</td><td style=\"font-weight: bold\">count(1)</td></tr><tr><td>TRANSFER</td><td>532909</td></tr><tr><td>CASH_IN</td><td>1399284</td></tr><tr><td>CASH_OUT</td><td>2237500</td></tr><tr><td>PAYMENT</td><td>2151495</td></tr><tr><td>DEBIT</td><td>41432</td></tr></table>"
      ],
      "text/plain": [
       "<IPython.core.display.HTML object>"
      ]
     },
     "execution_count": 22,
     "metadata": {},
     "output_type": "execute_result"
    }
   ],
   "source": [
    "%%sparksql\n",
    "select type, count(1) from financials group by type"
   ]
  },
  {
   "cell_type": "markdown",
   "id": "f47bf305",
   "metadata": {},
   "source": [
    "##### plot the type of transactions"
   ]
  },
  {
   "cell_type": "code",
   "execution_count": 23,
   "id": "0e18d98f",
   "metadata": {},
   "outputs": [
    {
     "name": "stdout",
     "output_type": "stream",
     "text": [
      "23/02/05 21:17:06 WARN TaskSetManager: Stage 6 contains a task of very large size (64404 KiB). The maximum recommended task size is 1000 KiB.\n"
     ]
    },
    {
     "name": "stderr",
     "output_type": "stream",
     "text": [
      "                                                                                \r"
     ]
    }
   ],
   "source": [
    "#collect type of transactions\n",
    "type_transactions = 'select type, count(1) from financials group by type'\n",
    "collected_data1 = spark.sql(type_transactions).collect()"
   ]
  },
  {
   "cell_type": "code",
   "execution_count": 57,
   "id": "ed57cdf8",
   "metadata": {},
   "outputs": [
    {
     "data": {
      "text/plain": [
       "[Row(type='TRANSFER', count(1)=532909),\n",
       " Row(type='CASH_IN', count(1)=1399284),\n",
       " Row(type='CASH_OUT', count(1)=2237500),\n",
       " Row(type='PAYMENT', count(1)=2151495),\n",
       " Row(type='DEBIT', count(1)=41432)]"
      ]
     },
     "execution_count": 57,
     "metadata": {},
     "output_type": "execute_result"
    }
   ],
   "source": [
    "collected_data1"
   ]
  },
  {
   "cell_type": "code",
   "execution_count": 24,
   "id": "891e4b43",
   "metadata": {},
   "outputs": [],
   "source": [
    "#convert to dataframe for plotting\n",
    "df_trans_type = pd.DataFrame(collected_data1)\n",
    "df_trans_type.rename(columns={0:'transactions', 1:'trans_total'}, inplace=True)"
   ]
  },
  {
   "cell_type": "code",
   "execution_count": 25,
   "id": "b4f0cc89",
   "metadata": {},
   "outputs": [
    {
     "data": {
      "text/html": [
       "<div>\n",
       "<style scoped>\n",
       "    .dataframe tbody tr th:only-of-type {\n",
       "        vertical-align: middle;\n",
       "    }\n",
       "\n",
       "    .dataframe tbody tr th {\n",
       "        vertical-align: top;\n",
       "    }\n",
       "\n",
       "    .dataframe thead th {\n",
       "        text-align: right;\n",
       "    }\n",
       "</style>\n",
       "<table border=\"1\" class=\"dataframe\">\n",
       "  <thead>\n",
       "    <tr style=\"text-align: right;\">\n",
       "      <th></th>\n",
       "      <th>transactions</th>\n",
       "      <th>trans_total</th>\n",
       "    </tr>\n",
       "  </thead>\n",
       "  <tbody>\n",
       "    <tr>\n",
       "      <th>0</th>\n",
       "      <td>TRANSFER</td>\n",
       "      <td>532909</td>\n",
       "    </tr>\n",
       "    <tr>\n",
       "      <th>1</th>\n",
       "      <td>CASH_IN</td>\n",
       "      <td>1399284</td>\n",
       "    </tr>\n",
       "    <tr>\n",
       "      <th>2</th>\n",
       "      <td>CASH_OUT</td>\n",
       "      <td>2237500</td>\n",
       "    </tr>\n",
       "    <tr>\n",
       "      <th>3</th>\n",
       "      <td>PAYMENT</td>\n",
       "      <td>2151495</td>\n",
       "    </tr>\n",
       "    <tr>\n",
       "      <th>4</th>\n",
       "      <td>DEBIT</td>\n",
       "      <td>41432</td>\n",
       "    </tr>\n",
       "  </tbody>\n",
       "</table>\n",
       "</div>"
      ],
      "text/plain": [
       "  transactions  trans_total\n",
       "0     TRANSFER       532909\n",
       "1      CASH_IN      1399284\n",
       "2     CASH_OUT      2237500\n",
       "3      PAYMENT      2151495\n",
       "4        DEBIT        41432"
      ]
     },
     "execution_count": 25,
     "metadata": {},
     "output_type": "execute_result"
    }
   ],
   "source": [
    "df_trans_type"
   ]
  },
  {
   "cell_type": "code",
   "execution_count": 71,
   "id": "8885786c",
   "metadata": {},
   "outputs": [
    {
     "data": {
      "image/png": "[encoded data removed]",
      "text/plain": [
       "<Figure size 640x480 with 1 Axes>"
      ]
     },
     "metadata": {},
     "output_type": "display_data"
    }
   ],
   "source": [
    "#plotting\n",
    "import matplotlib.pyplot as plt\n",
    "labels = df_trans_type.transactions\n",
    "volume = df_trans_type.trans_total\n",
    "explode = (0.2, 0.1, 0.1, 0.1, 0.1) # 5 volume to be exploded\n",
    "#pie\n",
    "plt.pie(volume, labels=labels, startangle=90,\n",
    "        shadow=True, explode=explode, autopct='%1.2f%%')\n",
    "#title\n",
    "plt.title('Type of Transactions')\n",
    "plt.axis('equal')\n",
    "plt.show()"
   ]
  },
  {
   "cell_type": "markdown",
   "id": "11773712",
   "metadata": {},
   "source": [
    "### How much money each type of transactions made(synthetically)?"
   ]
  },
  {
   "cell_type": "code",
   "execution_count": 27,
   "id": "1c315bad",
   "metadata": {},
   "outputs": [
    {
     "name": "stdout",
     "output_type": "stream",
     "text": [
      "23/02/05 21:17:17 WARN TaskSetManager: Stage 9 contains a task of very large size (64404 KiB). The maximum recommended task size is 1000 KiB.\n"
     ]
    },
    {
     "name": "stderr",
     "output_type": "stream",
     "text": [
      "                                                                                \r"
     ]
    },
    {
     "data": {
      "text/html": [
       "<table><tr style=\"border-bottom: 1px solid\"><td style=\"font-weight: bold\">type</td><td style=\"font-weight: bold\">sum(amount)</td></tr><tr><td>TRANSFER</td><td>485291987263.16876</td></tr><tr><td>CASH_IN</td><td>236367391912.45996</td></tr><tr><td>CASH_OUT</td><td>394412995224.4904</td></tr><tr><td>PAYMENT</td><td>28093371138.37003</td></tr><tr><td>DEBIT</td><td>227199221.27999985</td></tr></table>"
      ],
      "text/plain": [
       "<IPython.core.display.HTML object>"
      ]
     },
     "execution_count": 27,
     "metadata": {},
     "output_type": "execute_result"
    }
   ],
   "source": [
    "%%sparksql\n",
    "SELECT type, SUM(amount) FROM financials GROUP BY type"
   ]
  },
  {
   "cell_type": "markdown",
   "id": "e1b227a4",
   "metadata": {},
   "source": [
    "##### plot the the amount of money"
   ]
  },
  {
   "cell_type": "code",
   "execution_count": 28,
   "id": "cc85f9ae",
   "metadata": {},
   "outputs": [
    {
     "name": "stdout",
     "output_type": "stream",
     "text": [
      "23/02/05 21:18:07 WARN TaskSetManager: Stage 12 contains a task of very large size (64404 KiB). The maximum recommended task size is 1000 KiB.\n"
     ]
    },
    {
     "name": "stderr",
     "output_type": "stream",
     "text": [
      "                                                                                \r"
     ]
    }
   ],
   "source": [
    "#collect money data\n",
    "total_money_each_type_trans = 'SELECT type, SUM(amount) FROM financials GROUP BY type'\n",
    "collected_data2 = spark.sql(total_money_each_type_trans).collect()"
   ]
  },
  {
   "cell_type": "code",
   "execution_count": 29,
   "id": "943c1985",
   "metadata": {},
   "outputs": [
    {
     "data": {
      "text/html": [
       "<div>\n",
       "<style scoped>\n",
       "    .dataframe tbody tr th:only-of-type {\n",
       "        vertical-align: middle;\n",
       "    }\n",
       "\n",
       "    .dataframe tbody tr th {\n",
       "        vertical-align: top;\n",
       "    }\n",
       "\n",
       "    .dataframe thead th {\n",
       "        text-align: right;\n",
       "    }\n",
       "</style>\n",
       "<table border=\"1\" class=\"dataframe\">\n",
       "  <thead>\n",
       "    <tr style=\"text-align: right;\">\n",
       "      <th></th>\n",
       "      <th>0</th>\n",
       "      <th>1</th>\n",
       "    </tr>\n",
       "  </thead>\n",
       "  <tbody>\n",
       "    <tr>\n",
       "      <th>0</th>\n",
       "      <td>TRANSFER</td>\n",
       "      <td>4.852920e+11</td>\n",
       "    </tr>\n",
       "    <tr>\n",
       "      <th>1</th>\n",
       "      <td>CASH_IN</td>\n",
       "      <td>2.363674e+11</td>\n",
       "    </tr>\n",
       "    <tr>\n",
       "      <th>2</th>\n",
       "      <td>CASH_OUT</td>\n",
       "      <td>3.944130e+11</td>\n",
       "    </tr>\n",
       "    <tr>\n",
       "      <th>3</th>\n",
       "      <td>PAYMENT</td>\n",
       "      <td>2.809337e+10</td>\n",
       "    </tr>\n",
       "    <tr>\n",
       "      <th>4</th>\n",
       "      <td>DEBIT</td>\n",
       "      <td>2.271992e+08</td>\n",
       "    </tr>\n",
       "  </tbody>\n",
       "</table>\n",
       "</div>"
      ],
      "text/plain": [
       "          0             1\n",
       "0  TRANSFER  4.852920e+11\n",
       "1   CASH_IN  2.363674e+11\n",
       "2  CASH_OUT  3.944130e+11\n",
       "3   PAYMENT  2.809337e+10\n",
       "4     DEBIT  2.271992e+08"
      ]
     },
     "execution_count": 29,
     "metadata": {},
     "output_type": "execute_result"
    }
   ],
   "source": [
    "pd.DataFrame(collected_data2)"
   ]
  },
  {
   "cell_type": "code",
   "execution_count": 30,
   "id": "d10c279f",
   "metadata": {},
   "outputs": [],
   "source": [
    "from math import log, floor\n",
    "\n",
    "def number_format(number):\n",
    "    #function format number to B\n",
    "    units = 'B'\n",
    "    k = 1000000000.0\n",
    "    #m = int(floor(log(number, k)))\n",
    "    return '%.3f' % (number / k)"
   ]
  },
  {
   "cell_type": "code",
   "execution_count": 31,
   "id": "186d1ddd",
   "metadata": {},
   "outputs": [],
   "source": [
    "#convert to dataframe for plotting\n",
    "df_total_money = pd.DataFrame(collected_data2)\n",
    "df_total_money.rename(columns={0:'transactions', 1:'money_total_in_Billion'}, inplace=True)\n",
    "#format to Billion\n",
    "df_total_money['money_total_in_Billion'] = \\\n",
    "            df_total_money['money_total_in_Billion'].apply(lambda x: number_format(x))\n",
    "## format to float\n",
    "df_total_money['money_total_in_Billion'] = \\\n",
    "            df_total_money['money_total_in_Billion'].apply(lambda x: float(x))"
   ]
  },
  {
   "cell_type": "code",
   "execution_count": 32,
   "id": "2f5e72f0",
   "metadata": {},
   "outputs": [],
   "source": [
    "#sort the data\n",
    "df_total_money = df_total_money.sort_values(by='money_total_in_Billion')"
   ]
  },
  {
   "cell_type": "code",
   "execution_count": 33,
   "id": "711cca5f",
   "metadata": {},
   "outputs": [
    {
     "data": {
      "text/html": [
       "<div>\n",
       "<style scoped>\n",
       "    .dataframe tbody tr th:only-of-type {\n",
       "        vertical-align: middle;\n",
       "    }\n",
       "\n",
       "    .dataframe tbody tr th {\n",
       "        vertical-align: top;\n",
       "    }\n",
       "\n",
       "    .dataframe thead th {\n",
       "        text-align: right;\n",
       "    }\n",
       "</style>\n",
       "<table border=\"1\" class=\"dataframe\">\n",
       "  <thead>\n",
       "    <tr style=\"text-align: right;\">\n",
       "      <th></th>\n",
       "      <th>transactions</th>\n",
       "      <th>money_total_in_Billion</th>\n",
       "    </tr>\n",
       "  </thead>\n",
       "  <tbody>\n",
       "    <tr>\n",
       "      <th>4</th>\n",
       "      <td>DEBIT</td>\n",
       "      <td>0.227</td>\n",
       "    </tr>\n",
       "    <tr>\n",
       "      <th>3</th>\n",
       "      <td>PAYMENT</td>\n",
       "      <td>28.093</td>\n",
       "    </tr>\n",
       "    <tr>\n",
       "      <th>1</th>\n",
       "      <td>CASH_IN</td>\n",
       "      <td>236.367</td>\n",
       "    </tr>\n",
       "    <tr>\n",
       "      <th>2</th>\n",
       "      <td>CASH_OUT</td>\n",
       "      <td>394.413</td>\n",
       "    </tr>\n",
       "    <tr>\n",
       "      <th>0</th>\n",
       "      <td>TRANSFER</td>\n",
       "      <td>485.292</td>\n",
       "    </tr>\n",
       "  </tbody>\n",
       "</table>\n",
       "</div>"
      ],
      "text/plain": [
       "  transactions  money_total_in_Billion\n",
       "4        DEBIT                   0.227\n",
       "3      PAYMENT                  28.093\n",
       "1      CASH_IN                 236.367\n",
       "2     CASH_OUT                 394.413\n",
       "0     TRANSFER                 485.292"
      ]
     },
     "execution_count": 33,
     "metadata": {},
     "output_type": "execute_result"
    }
   ],
   "source": [
    "df_total_money"
   ]
  },
  {
   "cell_type": "code",
   "execution_count": 34,
   "id": "0f583a18",
   "metadata": {},
   "outputs": [
    {
     "data": {
      "image/png": "[encoded data removed]",
      "text/plain": [
       "<Figure size 640x480 with 1 Axes>"
      ]
     },
     "metadata": {},
     "output_type": "display_data"
    }
   ],
   "source": [
    "#plotting\n",
    "import matplotlib as mpl\n",
    "import matplotlib.pyplot as plt\n",
    "labels = df_total_money.transactions\n",
    "y_pos = np.arange(len(labels))\n",
    "volume = df_total_money.money_total_in_Billion\n",
    "#bar chart\n",
    "fig, ax = plt.subplots()\n",
    "\n",
    "hbars = ax.barh(y_pos, volume, align='center')\n",
    "ax.set_yticks(y_pos, labels=labels)\n",
    "ax.invert_yaxis()\n",
    "ax.set_xlabel('total money (Billion) each type trans')\n",
    "ax.set_title('Total money (Billion) of each type of trans')\n",
    "\n",
    "#Label with specially formatted floats\n",
    "ax.bar_label(ax.containers[0])\n",
    "plt.show()"
   ]
  },
  {
   "cell_type": "markdown",
   "id": "0f441447",
   "metadata": {},
   "source": [
    "### Rules-based Model: Create a set of rules to identify fraud based on know cases\n",
    "\n",
    "* This is an example of using WHERE clause in SQL to create set of rules to identify know fraud-bases cases, bases on some suspecting transations, we can flag out those as fraud\n",
    "* in reality, rules are often much larger and more complicated"
   ]
  },
  {
   "cell_type": "code",
   "execution_count": 48,
   "id": "ebf414d3",
   "metadata": {},
   "outputs": [
    {
     "name": "stdout",
     "output_type": "stream",
     "text": [
      "23/02/05 21:50:27 WARN TaskSetManager: Stage 23 contains a task of very large size (64404 KiB). The maximum recommended task size is 1000 KiB.\n"
     ]
    },
    {
     "name": "stderr",
     "output_type": "stream",
     "text": [
      "                                                                                \r"
     ]
    },
    {
     "name": "stdout",
     "output_type": "stream",
     "text": [
      "23/02/05 21:50:36 WARN TaskSetManager: Stage 26 contains a task of very large size (64404 KiB). The maximum recommended task size is 1000 KiB.\n"
     ]
    },
    {
     "name": "stderr",
     "output_type": "stream",
     "text": [
      "\r",
      "[Stage 26:>                                                         (0 + 8) / 8]\r"
     ]
    },
    {
     "name": "stdout",
     "output_type": "stream",
     "text": [
      "Based on these rules, we have flagged 255640 (0.04017841706718302) fraud cases out of a total of 6362620 cases.\n"
     ]
    },
    {
     "name": "stderr",
     "output_type": "stream",
     "text": [
      "\r",
      "                                                                                \r"
     ]
    }
   ],
   "source": [
    "from pyspark.sql import functions as F\n",
    "#set of rules to identify known Fraud-based\n",
    "rules_fraud_based_df = original_fin_fraud_df.withColumn(\"label\",\n",
    "                  F.when(\n",
    "                  (\n",
    "                    (original_fin_fraud_df.oldbalanceOrg <= 56900) &\\\n",
    "                      (original_fin_fraud_df.type == 'TRANSFER') &\\\n",
    "                      (original_fin_fraud_df.newbalanceDest <= 105))|\\\n",
    "                (\n",
    "                    (original_fin_fraud_df.oldbalanceOrg > 56900) &\\\n",
    "                      (original_fin_fraud_df.newbalanceOrig <= 12)) |\\\n",
    "                (\n",
    "                    (original_fin_fraud_df.oldbalanceOrg > 56900) &\\\n",
    "                      (original_fin_fraud_df.newbalanceOrig > 12) &\\\n",
    "                        (original_fin_fraud_df.amount > 1160000))\\\n",
    "                      ,1).otherwise(0))\n",
    "\n",
    "#Calcualte proportions\n",
    "fraud_cases = rules_fraud_based_df.filter(rules_fraud_based_df.label == 1).count()\n",
    "total_cases = rules_fraud_based_df.count()\n",
    "fraud_pct = 1.*fraud_cases/total_cases\n",
    "\n",
    "#provide a quick statistics\n",
    "print(\"Based on these rules, we have flagged %s (%s) fraud cases out of a total of %s cases.\"\\\n",
    "     % (fraud_cases, fraud_pct, total_cases))\n",
    "\n",
    "#Create temporary view to review data\n",
    "rules_fraud_based_df.createOrReplaceTempView(\"financials_labeled\")"
   ]
  },
  {
   "cell_type": "code",
   "execution_count": 54,
   "id": "3b54991b",
   "metadata": {},
   "outputs": [
    {
     "name": "stdout",
     "output_type": "stream",
     "text": [
      "23/02/05 22:45:44 WARN TaskSetManager: Stage 32 contains a task of very large size (64404 KiB). The maximum recommended task size is 1000 KiB.\n"
     ]
    },
    {
     "name": "stderr",
     "output_type": "stream",
     "text": [
      "                                                                                \r"
     ]
    },
    {
     "data": {
      "text/html": [
       "<table><tr style=\"border-bottom: 1px solid\"><td style=\"font-weight: bold\">label</td><td style=\"font-weight: bold\">count(1)</td><td style=\"font-weight: bold\">sum(amount)</td></tr><tr><td>1</td><td>255640</td><td>129324296676.48</td></tr><tr><td>0</td><td>6106980</td><td>1015068648083.2874</td></tr></table>"
      ],
      "text/plain": [
       "<IPython.core.display.HTML object>"
      ]
     },
     "execution_count": 54,
     "metadata": {},
     "output_type": "execute_result"
    }
   ],
   "source": [
    "%%sparksql\n",
    "SELECT label, COUNT(1), SUM(amount) FROM financials_labeled GROUP BY label"
   ]
  },
  {
   "cell_type": "markdown",
   "id": "2b71a626",
   "metadata": {},
   "source": [
    "#### plotting those bases_rule fraud cases"
   ]
  },
  {
   "cell_type": "code",
   "execution_count": 61,
   "id": "76ceaf15",
   "metadata": {},
   "outputs": [
    {
     "name": "stdout",
     "output_type": "stream",
     "text": [
      "23/02/05 22:54:08 WARN TaskSetManager: Stage 39 contains a task of very large size (64404 KiB). The maximum recommended task size is 1000 KiB.\n"
     ]
    },
    {
     "name": "stderr",
     "output_type": "stream",
     "text": [
      "                                                                                \r"
     ]
    }
   ],
   "source": [
    "#fraud_base_rules dataset\n",
    "based_rules_sql = 'SELECT label,\\\n",
    "                    COUNT(1) as Transactions,\\\n",
    "                    SUM(amount) as Total_amount FROM financials_labeled GROUP BY label'\n",
    "collected_data3 = spark.sql(based_rules_sql).collect()"
   ]
  },
  {
   "cell_type": "code",
   "execution_count": 62,
   "id": "a2f31506",
   "metadata": {},
   "outputs": [
    {
     "data": {
      "text/plain": [
       "[Row(label=1, Transactions=255640, Total_amount=129324296676.48),\n",
       " Row(label=0, Transactions=6106980, Total_amount=1015068648083.2874)]"
      ]
     },
     "execution_count": 62,
     "metadata": {},
     "output_type": "execute_result"
    }
   ],
   "source": [
    "collected_data3"
   ]
  },
  {
   "cell_type": "code",
   "execution_count": 85,
   "id": "832a5d6a",
   "metadata": {},
   "outputs": [],
   "source": [
    "#convert to dataframe for plotting\n",
    "df_based_rules = pd.DataFrame(collected_data3)\n",
    "df_based_rules.rename(columns={0:'label', 1:'transactions', 2:'total_amount'}, inplace=True)\n",
    "df_based_rules['flagged_label'] = np.where(df_based_rules['label']==1, 'fraud', 'normal')"
   ]
  },
  {
   "cell_type": "code",
   "execution_count": 86,
   "id": "ca878a47",
   "metadata": {},
   "outputs": [
    {
     "data": {
      "text/html": [
       "<div>\n",
       "<style scoped>\n",
       "    .dataframe tbody tr th:only-of-type {\n",
       "        vertical-align: middle;\n",
       "    }\n",
       "\n",
       "    .dataframe tbody tr th {\n",
       "        vertical-align: top;\n",
       "    }\n",
       "\n",
       "    .dataframe thead th {\n",
       "        text-align: right;\n",
       "    }\n",
       "</style>\n",
       "<table border=\"1\" class=\"dataframe\">\n",
       "  <thead>\n",
       "    <tr style=\"text-align: right;\">\n",
       "      <th></th>\n",
       "      <th>label</th>\n",
       "      <th>transactions</th>\n",
       "      <th>total_amount</th>\n",
       "      <th>flagged_label</th>\n",
       "    </tr>\n",
       "  </thead>\n",
       "  <tbody>\n",
       "    <tr>\n",
       "      <th>0</th>\n",
       "      <td>1</td>\n",
       "      <td>255640</td>\n",
       "      <td>1.293243e+11</td>\n",
       "      <td>fraud</td>\n",
       "    </tr>\n",
       "    <tr>\n",
       "      <th>1</th>\n",
       "      <td>0</td>\n",
       "      <td>6106980</td>\n",
       "      <td>1.015069e+12</td>\n",
       "      <td>normal</td>\n",
       "    </tr>\n",
       "  </tbody>\n",
       "</table>\n",
       "</div>"
      ],
      "text/plain": [
       "   label  transactions  total_amount flagged_label\n",
       "0      1        255640  1.293243e+11         fraud\n",
       "1      0       6106980  1.015069e+12        normal"
      ]
     },
     "execution_count": 86,
     "metadata": {},
     "output_type": "execute_result"
    }
   ],
   "source": [
    "df_based_rules"
   ]
  },
  {
   "cell_type": "code",
   "execution_count": 113,
   "id": "90dc3f26",
   "metadata": {},
   "outputs": [
    {
     "data": {
      "image/png": "[encoded data removed]",
      "text/plain": [
       "<Figure size 640x480 with 2 Axes>"
      ]
     },
     "metadata": {},
     "output_type": "display_data"
    }
   ],
   "source": [
    "#plotting transactions\n",
    "import matplotlib.pyplot as plt\n",
    "labels = df_based_rules.flagged_label\n",
    "volume = df_based_rules.transactions\n",
    "amount = df_based_rules.total_amount\n",
    "explode = (0.1, 0.0) #2 volumes to be exploded \n",
    "\n",
    "# double pie charts\n",
    "# Make figure and axes\n",
    "fig, axs = plt.subplots(1,2)\n",
    "#first pie\n",
    "axs[0].pie(volume, labels=labels, autopct='%1.2f%%',\\\n",
    "            wedgeprops= {\"edgecolor\":\"white\", 'linewidth': 2, 'antialiased': True})\n",
    "axs[0].title\n",
    "#second pie\n",
    "axs[1].pie(amount, labels=labels, autopct='%1.2f%%',\\\n",
    "             wedgeprops= {\"edgecolor\":\"white\", 'linewidth': 2, 'antialiased': True})\n",
    "\n",
    "#title\n",
    "plt.title('Fraud percentage in total transactions')\n",
    "#plt.axis('equal')\n",
    "plt.show()"
   ]
  },
  {
   "cell_type": "code",
   "execution_count": null,
   "id": "9b026007",
   "metadata": {},
   "outputs": [],
   "source": [
    "#plotting transactions\n",
    "import matplotlib.pyplot as plt\n",
    "labels = df_based_rules.label\n",
    "volume = df_based_rules.transactions\n",
    "explode = (0.1, 0.0) #2 volumes to be exploded \n",
    "#pie\n",
    "plt.pie(volume, labels=labels, startangle=90,\n",
    "        shadow=False, explode=explode, autopct='%1.2f%%')\n",
    "\n",
    "# draw circle\n",
    "centre_circle = plt.Circle((0, 0), 0.50, fc='white')\n",
    "fig = plt.gcf()\n",
    "  \n",
    "# Adding Circle in Pie chart\n",
    "fig.gca().add_artist(centre_circle)\n",
    "\n",
    "#title\n",
    "plt.title('Fraud percentage in total transactions')\n",
    "plt.axis('equal')\n",
    "plt.show()"
   ]
  }
 ],
 "metadata": {
  "kernelspec": {
   "display_name": "Python 3.8 (tensorflow)",
   "language": "python",
   "name": "lighthouse"
  },
  "language_info": {
   "codemirror_mode": {
    "name": "ipython",
    "version": 3
   },
   "file_extension": ".py",
   "mimetype": "text/x-python",
   "name": "python",
   "nbconvert_exporter": "python",
   "pygments_lexer": "ipython3",
   "version": "3.9.13"
  }
 },
 "nbformat": 4,
 "nbformat_minor": 5
}
